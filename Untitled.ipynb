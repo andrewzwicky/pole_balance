{
 "cells": [
  {
   "cell_type": "code",
   "execution_count": 1,
   "metadata": {
    "collapsed": false
   },
   "outputs": [],
   "source": [
    "from sympy import symbols, init_printing,S,Function,Derivative,diff,simplify,solve,lambdify, nsolve, Matrix, collect, expand, poly, solve_linear_system, cos, sin, latex, Add\n",
    "import sympy\n",
    "from sympy.physics.vector import vlatex\n",
    "from sympy.abc import i,j,k,l,m,n,alpha,beta,delta,a,b,d\n",
    "import numpy as np\n",
    "import scipy.integrate as integrate\n",
    "from matplotlib import pyplot as plt\n",
    "import matplotlib.animation as animation\n",
    "from IPython.display import Math, display\n",
    "\n",
    "init_printing(latex_printer=vlatex)"
   ]
  },
  {
   "cell_type": "code",
   "execution_count": 2,
   "metadata": {
    "collapsed": false
   },
   "outputs": [],
   "source": [
    "t = symbols('t')\n",
    "\n",
    "#g,l_1,m_1,I_1,r_1,l_2,m_2,I_2,r_2 = symbols('g l_1 m_1 I_1 r_1 l_2 m_2 I_2 r_2')\n",
    "\n",
    "g = S(9.8)\n",
    "l_1 = S(1.0)\n",
    "m_1 = S(1.0)\n",
    "I_1 = (m_1 * l_1 * l_1) / 12\n",
    "r_1 = l_1 / 2\n",
    "l_2 = S(1.0)\n",
    "m_2 = S(1.0)\n",
    "I_2 = (m_2 * l_2 * l_2) / 12\n",
    "r_2 = l_2 / 2\n",
    "\n",
    "theta = Function('theta')(t)\n",
    "phi = Function('phi')(t)\n",
    "theta_dot = Derivative(theta, t)\n",
    "phi_dot = Derivative(phi, t)\n",
    "theta_ddot = Derivative(theta, t, 2)\n",
    "phi_ddot = Derivative(phi, t, 2)\n",
    "\n",
    "x1 = r_1 * sympy.cos(theta)\n",
    "y1 = r_1 * sympy.sin(theta)\n",
    "x2 = l_1 * sympy.cos(theta) + r_2 * sympy.cos(theta + phi)\n",
    "y2 = l_1 * sympy.sin(theta) + r_2 * sympy.sin(theta + phi)\n",
    "\n",
    "x1_dot = diff(x1, t)\n",
    "y1_dot = diff(y1, t)\n",
    "x2_dot = diff(x2, t)\n",
    "y2_dot = diff(y2, t)\n",
    "\n",
    "K = (m_1 * (x1_dot ** 2 + y1_dot ** 2)\n",
    "           + m_2 * (x2_dot ** 2 + y2_dot ** 2)\n",
    "           + I_1 * (theta_dot          )**2\n",
    "           + I_2 * (theta_dot + phi_dot)**2) / 2\n",
    "U = (m_1 * g * y1) + (m_2 * g * y2)\n",
    "L = K - U\n",
    "\n",
    "L_1 = simplify(diff(L, theta_dot, t) - diff(L, theta))\n",
    "L_2 = simplify(diff(L, phi_dot, t) - diff(L, phi))"
   ]
  },
  {
   "cell_type": "code",
   "execution_count": 6,
   "metadata": {
    "collapsed": false
   },
   "outputs": [],
   "source": [
    "from functools import reduce\n",
    "t = symbols('t')\n",
    "\n",
    "N = 2\n",
    "\n",
    "#g = S(9.8)\n",
    "#l = [S(1.0), S(1.0), S(1.0)]\n",
    "#m = [S(1.0), S(1.0), S(1.0)]\n",
    "#r = [a/2 for a in l]\n",
    "#I = [(a*b**2)/12 for a,b in zip(l,m)]\n",
    "\n",
    "g = symbols('g')\n",
    "l = list(symbols('l0:{0}'.format(N)))\n",
    "m = list(symbols('m0:{0}'.format(N)))\n",
    "r = list(symbols('r0:{0}'.format(N)))\n",
    "I = list(symbols('I0:{0}'.format(N)))\n",
    "\n",
    "x = list(symbols('x0:{0}'.format(N)))\n",
    "y = list(symbols('y0:{0}'.format(N)))\n",
    "x_dot = list(symbols('x_dot0:{0}'.format(N)))\n",
    "y_dot = list(symbols('y_dot0:{0}'.format(N)))\n",
    "theta = list(w(t) for w in symbols('theta0:{0}'.format(N)))\n",
    "theta_dot = [Derivative(w, t) for w in theta]\n",
    "theta_ddot = [Derivative(w, t, t) for w in theta]\n",
    "\n",
    "x = [sum((r[i] if i == n else l[i])*sympy.cos(sum(theta[j] for j in range(i+1))) for i in range(n+1)) for n in range(N)]\n",
    "y = [sum((r[i] if i == n else l[i])*sympy.sin(sum(theta[j] for j in range(i+1))) for i in range(n+1)) for n in range(N)]\n",
    "\n",
    "x_dot = [diff(x[i], t) for i in range(N)]\n",
    "y_dot = [diff(y[i], t) for i in range(N)]\n",
    "\n",
    "K2 = sum([(m[i] * (x_dot[i] ** 2 + y_dot[i] ** 2) + I[i] * (sum([theta_dot[j] for j in range(i+1)]))**2)/2 for i in range(N)])\n",
    "U2 = sum([m[i] * g * y[i] for i in range(N)])\n",
    "L2 = K2 - U2\n",
    "\n",
    "L2_=[simplify(diff(L2, theta_dot[i], t) - diff(L2, theta[i])) for i in range(N)]"
   ]
  },
  {
   "cell_type": "code",
   "execution_count": 4,
   "metadata": {
    "collapsed": true
   },
   "outputs": [],
   "source": [
    "def dis(s):\n",
    "    display(Math(vlatex(simplify(s))))"
   ]
  },
  {
   "cell_type": "code",
   "execution_count": 4,
   "metadata": {
    "collapsed": false
   },
   "outputs": [],
   "source": [
    "solution = solve([L_1,L_2],[theta_ddot,phi_ddot])"
   ]
  },
  {
   "cell_type": "code",
   "execution_count": 5,
   "metadata": {
    "collapsed": false
   },
   "outputs": [
    {
     "data": {
      "image/png": "[encoded data removed]",
      "text/latex": [
       "$$\\frac{1}{45.0 \\operatorname{cos}\\left(2.0 \\phi\\right) - 115.0} \\left(- 60.0 \\operatorname{sin}\\left(\\phi\\right) \\dot{\\phi}^{2} - 120.0 \\operatorname{sin}\\left(\\phi\\right) \\dot{\\phi} \\dot{\\theta} - 60.0 \\operatorname{sin}\\left(\\phi\\right) \\dot{\\theta}^{2} - 45.0 \\operatorname{sin}\\left(2.0 \\phi\\right) \\dot{\\theta}^{2} - 441.0 \\operatorname{cos}\\left(2.0 \\phi + \\theta\\right) + 1323.0 \\operatorname{cos}\\left(\\theta\\right)\\right)$$"
      ],
      "text/plain": [
       "                           2                                                  \n",
       "                 ⎛d       ⎞                    d        d                     \n",
       "- 60.0⋅sin(φ(t))⋅⎜──(φ(t))⎟  - 120.0⋅sin(φ(t))⋅──(φ(t))⋅──(θ(t)) - 60.0⋅sin(φ(\n",
       "                 ⎝dt      ⎠                    dt       dt                    \n",
       "──────────────────────────────────────────────────────────────────────────────\n",
       "                                                                          45.0\n",
       "\n",
       "              2                                2                              \n",
       "    ⎛d       ⎞                       ⎛d       ⎞                               \n",
       "t))⋅⎜──(θ(t))⎟  - 45.0⋅sin(2.0⋅φ(t))⋅⎜──(θ(t))⎟  - 441.0⋅cos(2.0⋅φ(t) + θ(t)) \n",
       "    ⎝dt      ⎠                       ⎝dt      ⎠                               \n",
       "──────────────────────────────────────────────────────────────────────────────\n",
       "⋅cos(2.0⋅φ(t)) - 115.0                                                        \n",
       "\n",
       "                  \n",
       "                  \n",
       "+ 1323.0⋅cos(θ(t))\n",
       "                  \n",
       "──────────────────\n",
       "                  "
      ]
     },
     "execution_count": 5,
     "metadata": {},
     "output_type": "execute_result"
    }
   ],
   "source": [
    "simplify(solution[theta_ddot])"
   ]
  },
  {
   "cell_type": "code",
   "execution_count": 6,
   "metadata": {
    "collapsed": false
   },
   "outputs": [
    {
     "data": {
      "image/png": "[encoded data removed]",
      "text/latex": [
       "$$\\frac{1}{9.0 \\operatorname{cos}^{2}\\left(\\phi\\right) - 16.0} \\left(1.2 \\left(5.0 \\operatorname{sin}\\left(\\phi\\right) \\dot{\\theta}^{2} + 49.0 \\operatorname{cos}\\left(\\phi + \\theta\\right)\\right) \\left(3.0 \\operatorname{cos}\\left(\\phi\\right) + 5.0\\right) + 0.6 \\left(3.0 \\operatorname{cos}\\left(\\phi\\right) + 2.0\\right) \\left(5.0 \\operatorname{sin}\\left(\\phi\\right) \\dot{\\phi}^{2} + 10.0 \\operatorname{sin}\\left(\\phi\\right) \\dot{\\phi} \\dot{\\theta} - 49.0 \\operatorname{cos}\\left(\\phi + \\theta\\right) - 147.0 \\operatorname{cos}\\left(\\theta\\right)\\right)\\right)$$"
      ],
      "text/plain": [
       "    ⎛                        2                        ⎞                       \n",
       "    ⎜              ⎛d       ⎞                         ⎟                       \n",
       "1.2⋅⎜5.0⋅sin(φ(t))⋅⎜──(θ(t))⎟  + 49.0⋅cos(φ(t) + θ(t))⎟⋅(3.0⋅cos(φ(t)) + 5.0) \n",
       "    ⎝              ⎝dt      ⎠                         ⎠                       \n",
       "──────────────────────────────────────────────────────────────────────────────\n",
       "                                                                              \n",
       "                                                                              \n",
       "\n",
       "                            ⎛                        2                        \n",
       "                            ⎜              ⎛d       ⎞                   d     \n",
       "+ 0.6⋅(3.0⋅cos(φ(t)) + 2.0)⋅⎜5.0⋅sin(φ(t))⋅⎜──(φ(t))⎟  + 10.0⋅sin(φ(t))⋅──(φ(t\n",
       "                            ⎝              ⎝dt      ⎠                   dt    \n",
       "──────────────────────────────────────────────────────────────────────────────\n",
       "                       2                                                      \n",
       "                9.0⋅cos (φ(t)) - 16.0                                         \n",
       "\n",
       "                                                     ⎞\n",
       "   d                                                 ⎟\n",
       "))⋅──(θ(t)) - 49.0⋅cos(φ(t) + θ(t)) - 147.0⋅cos(θ(t))⎟\n",
       "   dt                                                ⎠\n",
       "──────────────────────────────────────────────────────\n",
       "                                                      \n",
       "                                                      "
      ]
     },
     "execution_count": 6,
     "metadata": {},
     "output_type": "execute_result"
    }
   ],
   "source": [
    "simplify(solution[phi_ddot])"
   ]
  },
  {
   "cell_type": "code",
   "execution_count": 7,
   "metadata": {
    "collapsed": false
   },
   "outputs": [],
   "source": [
    "LS1 = lambdify((i,j,k,n),solution[theta_ddot].subs([(theta_dot,i),(theta,j),(phi_dot,k),(phi,n)]))\n",
    "LS2 = lambdify((i,j,k,n),solution[phi_ddot].subs([(theta_dot,i),(theta,j),(phi_dot,k),(phi,n)]))"
   ]
  },
  {
   "cell_type": "code",
   "execution_count": 8,
   "metadata": {
    "collapsed": true
   },
   "outputs": [],
   "source": [
    "def double_pendulum_deriv(this_state, time_step):\n",
    "    this_theta, this_theta_dot, this_phi, this_phi_dot = this_state\n",
    "\n",
    "    next_theta_dot = this_theta_dot\n",
    "    next_phi_dot = this_phi_dot\n",
    "\n",
    "    next_theta_ddot = LS1(this_theta_dot, this_theta, this_phi_dot, this_phi)\n",
    "    next_phi_ddot = LS2(this_theta_dot, this_theta, this_phi_dot, this_phi)\n",
    "\n",
    "    return np.array([next_theta_dot, next_theta_ddot, next_phi_dot, next_phi_ddot])"
   ]
  },
  {
   "cell_type": "code",
   "execution_count": 9,
   "metadata": {
    "collapsed": true
   },
   "outputs": [],
   "source": [
    "dt = 0.05\n",
    "t = np.arange(0.0, 10, dt)\n",
    "\n",
    "theta_initial = 10.0\n",
    "theta_dot_initial = 0.0\n",
    "phi_initial = 0.0\n",
    "phi_dot_initial = 0.0\n",
    "\n",
    "initial_state = np.radians([theta_initial, theta_dot_initial, phi_initial, phi_dot_initial])\n",
    "\n",
    "pos = integrate.odeint(double_pendulum_deriv, initial_state, t)\n",
    "\n",
    "x1_pos = float(l_1) * np.cos(pos[:, 0])\n",
    "y1_pos = float(l_1) * np.sin(pos[:, 0])\n",
    "\n",
    "x2_pos = x1_pos + float(l_2) * np.cos(pos[:, 0] + pos[:, 2])\n",
    "y2_pos = y1_pos + float(l_2) * np.sin(pos[:, 0] + pos[:, 2])\n",
    "\n",
    "fig = plt.figure()\n",
    "ax = fig.add_subplot(111, autoscale_on=False, xlim=(-2, 2), ylim=(-2, 2))\n",
    "ax.grid()\n",
    "ax.set_aspect('equal', adjustable='box')\n",
    "\n",
    "line, = ax.plot([], [], 'k-', lw=4, solid_capstyle='round')\n",
    "time_template = 'time = %.2fs'\n",
    "time_text = ax.text(0.05, 0.9, '', transform=ax.transAxes)\n",
    "\n",
    "\n",
    "def init():\n",
    "    line.set_data([], [])\n",
    "    time_text.set_text('')\n",
    "    return line, time_text\n",
    "\n",
    "\n",
    "def animate(i):\n",
    "    thisx = [0, x1_pos[i], x2_pos[i]]\n",
    "    thisy = [0, y1_pos[i], y2_pos[i]]\n",
    "\n",
    "    line.set_data(thisx, thisy)\n",
    "    time_text.set_text(time_template % (i * dt))\n",
    "    return line, time_text\n",
    "\n",
    "\n",
    "ani = animation.FuncAnimation(fig, animate, frames=len(pos),\n",
    "                              interval=25, blit=True, init_func=init)\n",
    "\n",
    "# ani.save('double_pendulum.mp4', fps=15)\n",
    "plt.show()"
   ]
  }
 ],
 "metadata": {
  "kernelspec": {
   "display_name": "Python 3",
   "language": "python",
   "name": "python3"
  },
  "language_info": {
   "codemirror_mode": {
    "name": "ipython",
    "version": 3
   },
   "file_extension": ".py",
   "mimetype": "text/x-python",
   "name": "python",
   "nbconvert_exporter": "python",
   "pygments_lexer": "ipython3",
   "version": "3.5.1"
  }
 },
 "nbformat": 4,
 "nbformat_minor": 0
}

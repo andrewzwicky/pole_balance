{
 "cells": [
  {
   "cell_type": "code",
   "execution_count": 1,
   "metadata": {
    "collapsed": false,
    "deletable": true,
    "editable": true
   },
   "outputs": [],
   "source": [
    "from sympy import symbols,init_printing,Derivative,diff,simplify,solve, cos, sin, relational, poly, expand, Matrix, S, Mul, Expr\n",
    "from sympy.physics.vector import vlatex\n",
    "from sympy.abc import i,j,k,l,m,n\n",
    "import numpy as np\n",
    "import scipy.integrate as integrate\n",
    "from matplotlib import pyplot as plt\n",
    "import matplotlib.animation as animation\n",
    "from IPython.display import display, Math\n",
    "\n",
    "init_printing(latex_printer=vlatex, latex_mode='inline')"
   ]
  },
  {
   "cell_type": "code",
   "execution_count": 2,
   "metadata": {
    "collapsed": true
   },
   "outputs": [],
   "source": [
    "t = symbols('t')\n",
    "g = symbols('g')\n",
    "\n",
    "l = symbols('l0:2')\n",
    "m = symbols('m0:2')\n",
    "r = symbols('r0:2')\n",
    "I = symbols('I0:2')\n",
    "tau = symbols('tau0:2')\n",
    "b = symbols('b0:2')\n",
    "\n",
    "theta = list(w(t) for w in symbols('theta0:2'))\n",
    "theta_dot = [Derivative(w, t) for w in theta]\n",
    "theta_ddot = [Derivative(w, t, t) for w in theta]"
   ]
  },
  {
   "cell_type": "code",
   "execution_count": 3,
   "metadata": {
    "collapsed": true
   },
   "outputs": [],
   "source": [
    "x = symbols('x0:2')\n",
    "y = symbols('y0:2')\n",
    "x_dot = symbols('\\dot{x_0:2}')\n",
    "y_dot = symbols('\\dot{y_0:2}')"
   ]
  },
  {
   "cell_type": "code",
   "execution_count": 4,
   "metadata": {
    "collapsed": true
   },
   "outputs": [],
   "source": [
    "kinetic = (m[0] * (x_dot[0] ** 2 + y_dot[0] ** 2)\n",
    "           + m[1] * (x_dot[1] ** 2 + y_dot[1] ** 2)\n",
    "           + I[0] * (theta_dot[0]               )**2\n",
    "           + I[1] * (theta_dot[0] + theta_dot[1])**2) / 2\n",
    "potential = (m[0] * g * y[0]) + (m[1] * g * y[1])\n",
    "lagrange = kinetic - potential"
   ]
  },
  {
   "cell_type": "code",
   "execution_count": 5,
   "metadata": {
    "collapsed": false
   },
   "outputs": [
    {
     "data": {
      "image/png": "[encoded data removed]",
      "text/latex": [
       "$$\\frac{I_{0} \\dot{\\theta}_{0}^{2}}{2} + \\frac{I_{1}}{2} \\left(\\dot{\\theta}_{0} + \\dot{\\theta}_{1}\\right)^{2} + \\frac{m_{0}}{2} \\left(\\dot{x_0}^{2} + \\dot{y_0}^{2}\\right) + \\frac{m_{1}}{2} \\left(\\dot{x_1}^{2} + \\dot{y_1}^{2}\\right)$$"
      ],
      "text/plain": [
       "              2                             2                                 \n",
       "   ⎛d        ⎞       ⎛d           d        ⎞                                  \n",
       "I₀⋅⎜──(θ₀(t))⎟    I₁⋅⎜──(θ₀(t)) + ──(θ₁(t))⎟       ⎛         2            2⎞  \n",
       "   ⎝dt       ⎠       ⎝dt          dt       ⎠    m₀⋅⎝\\dot{x_0}  + \\dot{y_0} ⎠  \n",
       "─────────────── + ─────────────────────────── + ──────────────────────────── +\n",
       "       2                       2                             2                \n",
       "\n",
       "                             \n",
       "                             \n",
       "    ⎛         2            2⎞\n",
       " m₁⋅⎝\\dot{x_1}  + \\dot{y_1} ⎠\n",
       " ────────────────────────────\n",
       "              2              "
      ]
     },
     "execution_count": 5,
     "metadata": {},
     "output_type": "execute_result"
    }
   ],
   "source": [
    "simplify(kinetic)"
   ]
  },
  {
   "cell_type": "code",
   "execution_count": 6,
   "metadata": {
    "collapsed": false
   },
   "outputs": [
    {
     "data": {
      "image/png": "[encoded data removed]",
      "text/latex": [
       "$$g \\left(m_{0} y_{0} + m_{1} y_{1}\\right)$$"
      ],
      "text/plain": [
       "g⋅(m₀⋅y₀ + m₁⋅y₁)"
      ]
     },
     "execution_count": 6,
     "metadata": {},
     "output_type": "execute_result"
    }
   ],
   "source": [
    "simplify(potential)"
   ]
  },
  {
   "cell_type": "code",
   "execution_count": 7,
   "metadata": {
    "collapsed": false
   },
   "outputs": [
    {
     "data": {
      "image/png": "[encoded data removed]",
      "text/latex": [
       "$$\\frac{I_{0} \\dot{\\theta}_{0}^{2}}{2} + \\frac{I_{1}}{2} \\left(\\dot{\\theta}_{0} + \\dot{\\theta}_{1}\\right)^{2} - g m_{0} y_{0} - g m_{1} y_{1} + \\frac{m_{0}}{2} \\left(\\dot{x_0}^{2} + \\dot{y_0}^{2}\\right) + \\frac{m_{1}}{2} \\left(\\dot{x_1}^{2} + \\dot{y_1}^{2}\\right)$$"
      ],
      "text/plain": [
       "              2                             2                                 \n",
       "   ⎛d        ⎞       ⎛d           d        ⎞                                  \n",
       "I₀⋅⎜──(θ₀(t))⎟    I₁⋅⎜──(θ₀(t)) + ──(θ₁(t))⎟                           ⎛      \n",
       "   ⎝dt       ⎠       ⎝dt          dt       ⎠                        m₀⋅⎝\\dot{x\n",
       "─────────────── + ─────────────────────────── - g⋅m₀⋅y₀ - g⋅m₁⋅y₁ + ──────────\n",
       "       2                       2                                              \n",
       "\n",
       "                                                 \n",
       "                                                 \n",
       "   2            2⎞      ⎛         2            2⎞\n",
       "_0}  + \\dot{y_0} ⎠   m₁⋅⎝\\dot{x_1}  + \\dot{y_1} ⎠\n",
       "────────────────── + ────────────────────────────\n",
       "   2                              2              "
      ]
     },
     "execution_count": 7,
     "metadata": {},
     "output_type": "execute_result"
    }
   ],
   "source": [
    "simplify(lagrange)"
   ]
  },
  {
   "cell_type": "markdown",
   "metadata": {},
   "source": [
    "$$x_0= r_0 \\cos{(\\theta_0)}$$\n",
    "$$y_0= r_0 \\sin{(\\theta_0)}$$\n",
    "$$x_1= l_0 \\cos{(\\theta_0)} + r_1 \\cos{(\\theta_0 + \\theta_1)}$$\n",
    "$$y_1= l_0 \\sin{(\\theta_0)} + r_1 \\sin{(\\theta_0 + \\theta_1)}$$\n",
    "\n",
    "$$\\dot{x_0}= -r_0 \\sin{(\\theta_0)}\\dot{\\theta_0}$$\n",
    "$$\\dot{y_0}= r_0 \\cos{(\\theta_0)}\\dot{\\theta_0}$$\n",
    "$$\\dot{x_1}= -(l_0 \\sin{(\\theta_0)} + r_1 \\sin{(\\theta_0 + \\theta_1)})\\dot{\\theta_0} - r_1\\sin{(\\theta_0 + \\theta_1)}\\dot{\\theta_1}$$\n",
    "$$\\dot{y_1}= (l_0 \\cos{(\\theta_0)} + r_1 \\cos{(\\theta_0 + \\theta_1)})\\dot{\\theta_0} + r_1\\cos{(\\theta_0 + \\theta_1)}\\dot{\\theta_1}$$"
   ]
  },
  {
   "cell_type": "code",
   "execution_count": 8,
   "metadata": {
    "collapsed": false,
    "deletable": true,
    "editable": true
   },
   "outputs": [],
   "source": [
    "x = [None] * 2\n",
    "y = [None] * 2\n",
    "x_dot = [None] * 2\n",
    "y_dot = [None] * 2\n",
    "\n",
    "x[0] = r[0] * cos(theta[0])\n",
    "y[0] = r[0] * sin(theta[0])\n",
    "x[1] = l[1] * cos(theta[0]) + r[1] * cos(theta[0] + theta[1])\n",
    "y[1] = l[1] * sin(theta[0]) + r[1] * sin(theta[0] + theta[1])\n",
    "\n",
    "x_dot[0] = diff(x[0], t)\n",
    "y_dot[0] = diff(y[0], t)\n",
    "x_dot[1] = diff(x[1], t)\n",
    "y_dot[1] = diff(y[1], t)"
   ]
  },
  {
   "cell_type": "code",
   "execution_count": 9,
   "metadata": {
    "collapsed": true
   },
   "outputs": [],
   "source": [
    "kinetic = (m[0] * (x_dot[0] ** 2 + y_dot[0] ** 2)\n",
    "           + m[1] * (x_dot[1] ** 2 + y_dot[1] ** 2)\n",
    "           + I[0] * (theta_dot[0]               )**2\n",
    "           + I[1] * (theta_dot[0] + theta_dot[1])**2) / 2\n",
    "potential = (m[0] * g * y[0]) + (m[1] * g * y[1])\n",
    "lagrange = kinetic - potential"
   ]
  },
  {
   "cell_type": "code",
   "execution_count": 10,
   "metadata": {
    "collapsed": false,
    "scrolled": true
   },
   "outputs": [
    {
     "data": {
      "image/png": "[encoded data removed]",
      "text/latex": [
       "$$\\frac{I_{0} \\dot{\\theta}_{0}^{2}}{2} + \\frac{I_{1}}{2} \\left(\\dot{\\theta}_{0} + \\dot{\\theta}_{1}\\right)^{2} + \\frac{m_{0} r_{0}^{2}}{2} \\dot{\\theta}_{0}^{2} + \\frac{m_{1}}{2} \\left(l_{1}^{2} \\dot{\\theta}_{0}^{2} + 2 l_{1} r_{1} \\operatorname{cos}\\left(\\theta_{1}\\right) \\dot{\\theta}_{0}^{2} + 2 l_{1} r_{1} \\operatorname{cos}\\left(\\theta_{1}\\right) \\dot{\\theta}_{0} \\dot{\\theta}_{1} + r_{1}^{2} \\dot{\\theta}_{0}^{2} + 2 r_{1}^{2} \\dot{\\theta}_{0} \\dot{\\theta}_{1} + r_{1}^{2} \\dot{\\theta}_{1}^{2}\\right)$$"
      ],
      "text/plain": [
       "              2                             2                     2      ⎛    \n",
       "   ⎛d        ⎞       ⎛d           d        ⎞         2 ⎛d        ⎞       ⎜  2 \n",
       "I₀⋅⎜──(θ₀(t))⎟    I₁⋅⎜──(θ₀(t)) + ──(θ₁(t))⎟    m₀⋅r₀ ⋅⎜──(θ₀(t))⎟    m₁⋅⎜l₁ ⋅\n",
       "   ⎝dt       ⎠       ⎝dt          dt       ⎠           ⎝dt       ⎠       ⎝    \n",
       "─────────────── + ─────────────────────────── + ─────────────────── + ────────\n",
       "       2                       2                         2                    \n",
       "\n",
       "           2                                 2                                \n",
       "⎛d        ⎞                       ⎛d        ⎞                       d         \n",
       "⎜──(θ₀(t))⎟  + 2⋅l₁⋅r₁⋅cos(θ₁(t))⋅⎜──(θ₀(t))⎟  + 2⋅l₁⋅r₁⋅cos(θ₁(t))⋅──(θ₀(t))⋅\n",
       "⎝dt       ⎠                       ⎝dt       ⎠                       dt        \n",
       "──────────────────────────────────────────────────────────────────────────────\n",
       "                                                                        2     \n",
       "\n",
       "                           2                                              2⎞\n",
       "d             2 ⎛d        ⎞        2 d         d             2 ⎛d        ⎞ ⎟\n",
       "──(θ₁(t)) + r₁ ⋅⎜──(θ₀(t))⎟  + 2⋅r₁ ⋅──(θ₀(t))⋅──(θ₁(t)) + r₁ ⋅⎜──(θ₁(t))⎟ ⎟\n",
       "dt              ⎝dt       ⎠          dt        dt              ⎝dt       ⎠ ⎠\n",
       "────────────────────────────────────────────────────────────────────────────\n",
       "                                                                            "
      ]
     },
     "execution_count": 10,
     "metadata": {},
     "output_type": "execute_result"
    }
   ],
   "source": [
    "simplify(kinetic)"
   ]
  },
  {
   "cell_type": "code",
   "execution_count": 11,
   "metadata": {
    "collapsed": false
   },
   "outputs": [
    {
     "data": {
      "image/png": "[encoded data removed]",
      "text/latex": [
       "$$g \\left(m_{0} r_{0} \\operatorname{sin}\\left(\\theta_{0}\\right) + m_{1} \\left(l_{1} \\operatorname{sin}\\left(\\theta_{0}\\right) + r_{1} \\operatorname{sin}\\left(\\theta_{0} + \\theta_{1}\\right)\\right)\\right)$$"
      ],
      "text/plain": [
       "g⋅(m₀⋅r₀⋅sin(θ₀(t)) + m₁⋅(l₁⋅sin(θ₀(t)) + r₁⋅sin(θ₀(t) + θ₁(t))))"
      ]
     },
     "execution_count": 11,
     "metadata": {},
     "output_type": "execute_result"
    }
   ],
   "source": [
    "simplify(potential)"
   ]
  },
  {
   "cell_type": "code",
   "execution_count": 12,
   "metadata": {
    "collapsed": false
   },
   "outputs": [
    {
     "data": {
      "image/png": "[encoded data removed]",
      "text/latex": [
       "$$\\frac{I_{0} \\dot{\\theta}_{0}^{2}}{2} + \\frac{I_{1}}{2} \\left(\\dot{\\theta}_{0} + \\dot{\\theta}_{1}\\right)^{2} - g m_{0} r_{0} \\operatorname{sin}\\left(\\theta_{0}\\right) - g m_{1} \\left(l_{1} \\operatorname{sin}\\left(\\theta_{0}\\right) + r_{1} \\operatorname{sin}\\left(\\theta_{0} + \\theta_{1}\\right)\\right) + \\frac{m_{0} r_{0}^{2}}{2} \\dot{\\theta}_{0}^{2} + \\frac{m_{1}}{2} \\left(l_{1}^{2} \\dot{\\theta}_{0}^{2} + 2 l_{1} r_{1} \\operatorname{cos}\\left(\\theta_{1}\\right) \\dot{\\theta}_{0}^{2} + 2 l_{1} r_{1} \\operatorname{cos}\\left(\\theta_{1}\\right) \\dot{\\theta}_{0} \\dot{\\theta}_{1} + r_{1}^{2} \\dot{\\theta}_{0}^{2} + 2 r_{1}^{2} \\dot{\\theta}_{0} \\dot{\\theta}_{1} + r_{1}^{2} \\dot{\\theta}_{1}^{2}\\right)$$"
      ],
      "text/plain": [
       "              2                             2                                 \n",
       "   ⎛d        ⎞       ⎛d           d        ⎞                                  \n",
       "I₀⋅⎜──(θ₀(t))⎟    I₁⋅⎜──(θ₀(t)) + ──(θ₁(t))⎟                                  \n",
       "   ⎝dt       ⎠       ⎝dt          dt       ⎠                                  \n",
       "─────────────── + ─────────────────────────── - g⋅m₀⋅r₀⋅sin(θ₀(t)) - g⋅m₁⋅(l₁⋅\n",
       "       2                       2                                              \n",
       "\n",
       "                                                        2      ⎛              \n",
       "                                           2 ⎛d        ⎞       ⎜  2 ⎛d        \n",
       "                                      m₀⋅r₀ ⋅⎜──(θ₀(t))⎟    m₁⋅⎜l₁ ⋅⎜──(θ₀(t))\n",
       "                                             ⎝dt       ⎠       ⎝    ⎝dt       \n",
       "sin(θ₀(t)) + r₁⋅sin(θ₀(t) + θ₁(t))) + ─────────────────── + ──────────────────\n",
       "                                               2                              \n",
       "\n",
       " 2                                 2                                          \n",
       "⎞                       ⎛d        ⎞                       d         d         \n",
       "⎟  + 2⋅l₁⋅r₁⋅cos(θ₁(t))⋅⎜──(θ₀(t))⎟  + 2⋅l₁⋅r₁⋅cos(θ₁(t))⋅──(θ₀(t))⋅──(θ₁(t)) \n",
       "⎠                       ⎝dt       ⎠                       dt        dt        \n",
       "──────────────────────────────────────────────────────────────────────────────\n",
       "                                                              2               \n",
       "\n",
       "                 2                                              2⎞\n",
       "    2 ⎛d        ⎞        2 d         d             2 ⎛d        ⎞ ⎟\n",
       "+ r₁ ⋅⎜──(θ₀(t))⎟  + 2⋅r₁ ⋅──(θ₀(t))⋅──(θ₁(t)) + r₁ ⋅⎜──(θ₁(t))⎟ ⎟\n",
       "      ⎝dt       ⎠          dt        dt              ⎝dt       ⎠ ⎠\n",
       "──────────────────────────────────────────────────────────────────\n",
       "                                                                  "
      ]
     },
     "execution_count": 12,
     "metadata": {},
     "output_type": "execute_result"
    }
   ],
   "source": [
    "simplify(lagrange)"
   ]
  },
  {
   "cell_type": "code",
   "execution_count": 13,
   "metadata": {
    "collapsed": false
   },
   "outputs": [],
   "source": [
    "L_0 = diff(lagrange, theta_dot[0], t) - diff(lagrange, theta[0]) - (tau[0] + b[0]*theta_dot[0])\n",
    "L_1 = diff(lagrange, theta_dot[1], t) - diff(lagrange, theta[1]) - (tau[1] + b[1]*theta_dot[1])"
   ]
  },
  {
   "cell_type": "code",
   "execution_count": 14,
   "metadata": {
    "collapsed": false
   },
   "outputs": [
    {
     "data": {
      "image/png": "[encoded data removed]",
      "text/latex": [
       "$$I_{0} \\ddot{\\theta}_{0} + I_{1} \\left(\\ddot{\\theta}_{0} + \\ddot{\\theta}_{1}\\right) - b_{0} \\dot{\\theta}_{0} + g m_{0} r_{0} \\operatorname{cos}\\left(\\theta_{0}\\right) + g m_{1} \\left(l_{1} \\operatorname{cos}\\left(\\theta_{0}\\right) + r_{1} \\operatorname{cos}\\left(\\theta_{0} + \\theta_{1}\\right)\\right) + m_{0} r_{0}^{2} \\ddot{\\theta}_{0} + m_{1} \\left(l_{1}^{2} \\ddot{\\theta}_{0} - 2 l_{1} r_{1} \\operatorname{sin}\\left(\\theta_{1}\\right) \\dot{\\theta}_{0} \\dot{\\theta}_{1} - l_{1} r_{1} \\operatorname{sin}\\left(\\theta_{1}\\right) \\dot{\\theta}_{1}^{2} + 2 l_{1} r_{1} \\operatorname{cos}\\left(\\theta_{1}\\right) \\ddot{\\theta}_{0} + l_{1} r_{1} \\operatorname{cos}\\left(\\theta_{1}\\right) \\ddot{\\theta}_{1} + r_{1}^{2} \\ddot{\\theta}_{0} + r_{1}^{2} \\ddot{\\theta}_{1}\\right) - \\tau_{0}$$"
      ],
      "text/plain": [
       "     2             ⎛  2            2       ⎞                                  \n",
       "    d              ⎜ d            d        ⎟      d                           \n",
       "I₀⋅───(θ₀(t)) + I₁⋅⎜───(θ₀(t)) + ───(θ₁(t))⎟ - b₀⋅──(θ₀(t)) + g⋅m₀⋅r₀⋅cos(θ₀(t\n",
       "     2             ⎜  2            2       ⎟      dt                          \n",
       "   dt              ⎝dt           dt        ⎠                                  \n",
       "\n",
       "                                                             2             ⎛  \n",
       "                                                         2  d              ⎜  \n",
       ")) + g⋅m₁⋅(l₁⋅cos(θ₀(t)) + r₁⋅cos(θ₀(t) + θ₁(t))) + m₀⋅r₀ ⋅───(θ₀(t)) + m₁⋅⎜l₁\n",
       "                                                             2             ⎜  \n",
       "                                                           dt              ⎝  \n",
       "\n",
       "    2                                                                         \n",
       "2  d                              d         d                            ⎛d   \n",
       " ⋅───(θ₀(t)) - 2⋅l₁⋅r₁⋅sin(θ₁(t))⋅──(θ₀(t))⋅──(θ₁(t)) - l₁⋅r₁⋅sin(θ₁(t))⋅⎜──(θ\n",
       "    2                             dt        dt                           ⎝dt  \n",
       "  dt                                                                          \n",
       "\n",
       "      2                        2                             2                \n",
       "     ⎞                        d                             d             2  d\n",
       "₁(t))⎟  + 2⋅l₁⋅r₁⋅cos(θ₁(t))⋅───(θ₀(t)) + l₁⋅r₁⋅cos(θ₁(t))⋅───(θ₁(t)) + r₁ ⋅──\n",
       "     ⎠                         2                             2                \n",
       "                             dt                            dt               dt\n",
       "\n",
       "2                2       ⎞     \n",
       "             2  d        ⎟     \n",
       "─(θ₀(t)) + r₁ ⋅───(θ₁(t))⎟ - τ₀\n",
       "2                2       ⎟     \n",
       "               dt        ⎠     "
      ]
     },
     "execution_count": 14,
     "metadata": {},
     "output_type": "execute_result"
    }
   ],
   "source": [
    "simplify(L_0)"
   ]
  },
  {
   "cell_type": "code",
   "execution_count": 15,
   "metadata": {
    "collapsed": false
   },
   "outputs": [
    {
     "data": {
      "image/png": "[encoded data removed]",
      "text/latex": [
       "$$I_{1} \\ddot{\\theta}_{0} + I_{1} \\ddot{\\theta}_{1} - b_{1} \\dot{\\theta}_{1} + g m_{1} r_{1} \\operatorname{cos}\\left(\\theta_{0} + \\theta_{1}\\right) + l_{1} m_{1} r_{1} \\operatorname{sin}\\left(\\theta_{1}\\right) \\dot{\\theta}_{0}^{2} + l_{1} m_{1} r_{1} \\operatorname{cos}\\left(\\theta_{1}\\right) \\ddot{\\theta}_{0} + m_{1} r_{1}^{2} \\ddot{\\theta}_{0} + m_{1} r_{1}^{2} \\ddot{\\theta}_{1} - \\tau_{1}$$"
      ],
      "text/plain": [
       "     2               2                                                        \n",
       "    d               d              d                                          \n",
       "I₁⋅───(θ₀(t)) + I₁⋅───(θ₁(t)) - b₁⋅──(θ₁(t)) + g⋅m₁⋅r₁⋅cos(θ₀(t) + θ₁(t)) + l₁\n",
       "     2               2             dt                                         \n",
       "   dt              dt                                                         \n",
       "\n",
       "                             2                         2                   2  \n",
       "                  ⎛d        ⎞                         d                2  d   \n",
       "⋅m₁⋅r₁⋅sin(θ₁(t))⋅⎜──(θ₀(t))⎟  + l₁⋅m₁⋅r₁⋅cos(θ₁(t))⋅───(θ₀(t)) + m₁⋅r₁ ⋅───(θ\n",
       "                  ⎝dt       ⎠                          2                   2  \n",
       "                                                     dt                  dt   \n",
       "\n",
       "                 2            \n",
       "             2  d             \n",
       "₀(t)) + m₁⋅r₁ ⋅───(θ₁(t)) - τ₁\n",
       "                 2            \n",
       "               dt             "
      ]
     },
     "execution_count": 15,
     "metadata": {},
     "output_type": "execute_result"
    }
   ],
   "source": [
    "simplify(L_1)"
   ]
  },
  {
   "cell_type": "code",
   "execution_count": 16,
   "metadata": {
    "collapsed": false
   },
   "outputs": [],
   "source": [
    "C_1 = simplify(poly(simplify(L_0),theta_ddot).coeffs())\n",
    "C_2 = simplify(poly(simplify(L_1),theta_ddot).coeffs())"
   ]
  },
  {
   "cell_type": "code",
   "execution_count": 17,
   "metadata": {
    "collapsed": false
   },
   "outputs": [],
   "source": [
    "M = Matrix([C_1[0:-1],C_2[0:-1]])\n",
    "T = Matrix([[theta_ddot[0]],[theta_ddot[1]]])\n",
    "F = Matrix([C_1[-1],C_2[-1]])"
   ]
  },
  {
   "cell_type": "code",
   "execution_count": 18,
   "metadata": {
    "collapsed": false
   },
   "outputs": [
    {
     "data": {
      "text/latex": [
       "$$\\left[\\begin{matrix}I_{0} + I_{1} + l_{1}^{2} m_{1} + 2 l_{1} m_{1} r_{1} \\operatorname{cos}\\left(\\theta_{1}\\right) + m_{0} r_{0}^{2} + m_{1} r_{1}^{2} & I_{1} + l_{1} m_{1} r_{1} \\operatorname{cos}\\left(\\theta_{1}\\right) + m_{1} r_{1}^{2}\\\\I_{1} + l_{1} m_{1} r_{1} \\operatorname{cos}\\left(\\theta_{1}\\right) + m_{1} r_{1}^{2} & I_{1} + m_{1} r_{1}^{2}\\end{matrix}\\right]\\left[\\begin{matrix}\\ddot{\\theta}_{0}\\\\\\ddot{\\theta}_{1}\\end{matrix}\\right]=\\left[\\begin{matrix}- b_{0} \\dot{\\theta}_{0} + g l_{1} m_{1} \\operatorname{cos}\\left(\\theta_{0}\\right) + g m_{0} r_{0} \\operatorname{cos}\\left(\\theta_{0}\\right) + g m_{1} r_{1} \\operatorname{cos}\\left(\\theta_{0} + \\theta_{1}\\right) - 2 l_{1} m_{1} r_{1} \\operatorname{sin}\\left(\\theta_{1}\\right) \\dot{\\theta}_{0} \\dot{\\theta}_{1} - l_{1} m_{1} r_{1} \\operatorname{sin}\\left(\\theta_{1}\\right) \\dot{\\theta}_{1}^{2} - \\tau_{0}\\\\- b_{1} \\dot{\\theta}_{1} + g m_{1} r_{1} \\operatorname{cos}\\left(\\theta_{0} + \\theta_{1}\\right) + l_{1} m_{1} r_{1} \\operatorname{sin}\\left(\\theta_{1}\\right) \\dot{\\theta}_{0}^{2} - \\tau_{1}\\end{matrix}\\right]$$"
      ],
      "text/plain": [
       "<IPython.core.display.Math object>"
      ]
     },
     "metadata": {},
     "output_type": "display_data"
    }
   ],
   "source": [
    "display(Math(vlatex(M)+vlatex(T)+\"=\"+vlatex(F)))"
   ]
  },
  {
   "cell_type": "code",
   "execution_count": null,
   "metadata": {
    "collapsed": true
   },
   "outputs": [],
   "source": []
  }
 ],
 "metadata": {
  "kernelspec": {
   "display_name": "Python 3",
   "language": "python",
   "name": "python3"
  },
  "language_info": {
   "codemirror_mode": {
    "name": "ipython",
    "version": 3
   },
   "file_extension": ".py",
   "mimetype": "text/x-python",
   "name": "python",
   "nbconvert_exporter": "python",
   "pygments_lexer": "ipython3",
   "version": "3.5.3"
  }
 },
 "nbformat": 4,
 "nbformat_minor": 0
}

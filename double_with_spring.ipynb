{
 "cells": [
  {
   "cell_type": "code",
   "execution_count": 32,
   "metadata": {
    "collapsed": false,
    "deletable": true,
    "editable": true
   },
   "outputs": [],
   "source": [
    "from sympy import symbols,init_printing,Derivative,diff,simplify,solve, cos, sin, relational, poly, expand, Matrix, S, Mul, Expr, Function, lambdify\n",
    "from sympy.physics.vector import vlatex\n",
    "from sympy.abc import i,j,k,l,m,n,o,p\n",
    "import numpy as np\n",
    "import scipy.integrate as integrate\n",
    "from matplotlib import pyplot as plt\n",
    "import matplotlib.animation as animation\n",
    "from IPython.display import display, Math\n",
    "\n",
    "init_printing(latex_printer=vlatex, latex_mode='inline')"
   ]
  },
  {
   "cell_type": "code",
   "execution_count": 6,
   "metadata": {
    "collapsed": false
   },
   "outputs": [],
   "source": [
    "t = symbols('t')\n",
    "\n",
    "g = S(9.8)\n",
    "k = S(1.0)\n",
    "l = [S(1.0)] * 2\n",
    "m = [S(1.0)] * 3\n",
    "r = [temp_l/2 for temp_l in l]\n",
    "I = [(temp_m * temp_l**2)/12 for temp_m,temp_l in zip(m,l)]\n",
    "\n",
    "theta = list(w(t) for w in symbols('theta0:2'))\n",
    "theta_dot = [Derivative(w, t) for w in theta]\n",
    "theta_ddot = [Derivative(w, t, t) for w in theta]\n",
    "\n",
    "d = Function('d')(t)\n",
    "d_dot = Derivative(d, t)\n",
    "d_ddot = Derivative(d, t, t)"
   ]
  },
  {
   "cell_type": "code",
   "execution_count": 7,
   "metadata": {
    "collapsed": true
   },
   "outputs": [],
   "source": [
    "x = [None] * 3\n",
    "y = [None] * 3\n",
    "x_dot = [None] * 3\n",
    "y_dot = [None] * 3\n",
    "\n",
    "x[0] = r[0] * cos(theta[0]) + d\n",
    "y[0] = r[0] * sin(theta[0])\n",
    "x[1] = l[1] * cos(theta[0]) + r[1] * cos(theta[0] + theta[1]) + d\n",
    "y[1] = l[1] * sin(theta[0]) + r[1] * sin(theta[0] + theta[1])\n",
    "x[2] = d\n",
    "\n",
    "x_dot[0] = diff(x[0], t)\n",
    "y_dot[0] = diff(y[0], t)\n",
    "x_dot[1] = diff(x[1], t)\n",
    "y_dot[1] = diff(y[1], t)\n",
    "x_dot[2] = diff(x[2], t)"
   ]
  },
  {
   "cell_type": "code",
   "execution_count": 8,
   "metadata": {
    "collapsed": true
   },
   "outputs": [],
   "source": [
    "kinetic = (m[0] * (x_dot[0] ** 2 + y_dot[0] ** 2)\n",
    "           + m[1] * (x_dot[1] ** 2 + y_dot[1] ** 2)\n",
    "           + I[0] * (theta_dot[0]               )**2\n",
    "           + I[1] * (theta_dot[0] + theta_dot[1])**2\n",
    "           + m[2] * (x_dot[2] ** 2)) / 2\n",
    "\n",
    "potential = (m[0] * g * y[0]) + (m[1] * g * y[1]) + (k*d**2)/2\n",
    "lagrange = kinetic - potential"
   ]
  },
  {
   "cell_type": "code",
   "execution_count": 9,
   "metadata": {
    "collapsed": false
   },
   "outputs": [
    {
     "data": {
      "image/png": "[encoded data removed]",
      "text/latex": [
       "$$- 0.5 \\operatorname{sin}\\left(\\theta_{0} + \\theta_{1}\\right) \\dot{d} \\dot{\\theta}_{0} - 0.5 \\operatorname{sin}\\left(\\theta_{0} + \\theta_{1}\\right) \\dot{d} \\dot{\\theta}_{1} - 1.5 \\operatorname{sin}\\left(\\theta_{0}\\right) \\dot{d} \\dot{\\theta}_{0} + 0.5 \\operatorname{cos}\\left(\\theta_{1}\\right) \\dot{\\theta}_{0}^{2} + 0.5 \\operatorname{cos}\\left(\\theta_{1}\\right) \\dot{\\theta}_{0} \\dot{\\theta}_{1} + 1.5 \\dot{d}^{2} + 0.833333333333333 \\dot{\\theta}_{0}^{2} + 0.333333333333333 \\dot{\\theta}_{0} \\dot{\\theta}_{1} + 0.166666666666667 \\dot{\\theta}_{1}^{2}$$"
      ],
      "text/plain": [
       "                                                                              \n",
       "                         d        d                                  d        \n",
       "- 0.5⋅sin(θ₀(t) + θ₁(t))⋅──(d(t))⋅──(θ₀(t)) - 0.5⋅sin(θ₀(t) + θ₁(t))⋅──(d(t))⋅\n",
       "                         dt       dt                                 dt       \n",
       "\n",
       "                                                                          2   \n",
       "d                          d        d                          ⎛d        ⎞    \n",
       "──(θ₁(t)) - 1.5⋅sin(θ₀(t))⋅──(d(t))⋅──(θ₀(t)) + 0.5⋅cos(θ₁(t))⋅⎜──(θ₀(t))⎟  + \n",
       "dt                         dt       dt                         ⎝dt       ⎠    \n",
       "\n",
       "                                                   2                          \n",
       "               d         d               ⎛d       ⎞                      ⎛d   \n",
       "0.5⋅cos(θ₁(t))⋅──(θ₀(t))⋅──(θ₁(t)) + 1.5⋅⎜──(d(t))⎟  + 0.833333333333333⋅⎜──(θ\n",
       "               dt        dt              ⎝dt      ⎠                      ⎝dt  \n",
       "\n",
       "      2                                                                       \n",
       "     ⎞                      d         d                             ⎛d        \n",
       "₀(t))⎟  + 0.333333333333333⋅──(θ₀(t))⋅──(θ₁(t)) + 0.166666666666667⋅⎜──(θ₁(t))\n",
       "     ⎠                      dt        dt                            ⎝dt       \n",
       "\n",
       " 2\n",
       "⎞ \n",
       "⎟ \n",
       "⎠ "
      ]
     },
     "execution_count": 9,
     "metadata": {},
     "output_type": "execute_result"
    }
   ],
   "source": [
    "simplify(kinetic)"
   ]
  },
  {
   "cell_type": "code",
   "execution_count": 10,
   "metadata": {
    "collapsed": false
   },
   "outputs": [
    {
     "data": {
      "image/png": "[encoded data removed]",
      "text/latex": [
       "$$0.5 d^{2} + 4.9 \\operatorname{sin}\\left(\\theta_{0} + \\theta_{1}\\right) + 14.7 \\operatorname{sin}\\left(\\theta_{0}\\right)$$"
      ],
      "text/plain": [
       "     2                                              \n",
       "0.5⋅d (t) + 4.9⋅sin(θ₀(t) + θ₁(t)) + 14.7⋅sin(θ₀(t))"
      ]
     },
     "execution_count": 10,
     "metadata": {},
     "output_type": "execute_result"
    }
   ],
   "source": [
    "simplify(potential)"
   ]
  },
  {
   "cell_type": "code",
   "execution_count": 11,
   "metadata": {
    "collapsed": false
   },
   "outputs": [
    {
     "data": {
      "image/png": "[encoded data removed]",
      "text/latex": [
       "$$- 0.5 d^{2} - 0.5 \\operatorname{sin}\\left(\\theta_{0} + \\theta_{1}\\right) \\dot{d} \\dot{\\theta}_{0} - 0.5 \\operatorname{sin}\\left(\\theta_{0} + \\theta_{1}\\right) \\dot{d} \\dot{\\theta}_{1} - 4.9 \\operatorname{sin}\\left(\\theta_{0} + \\theta_{1}\\right) - 1.5 \\operatorname{sin}\\left(\\theta_{0}\\right) \\dot{d} \\dot{\\theta}_{0} - 14.7 \\operatorname{sin}\\left(\\theta_{0}\\right) + 0.5 \\operatorname{cos}\\left(\\theta_{1}\\right) \\dot{\\theta}_{0}^{2} + 0.5 \\operatorname{cos}\\left(\\theta_{1}\\right) \\dot{\\theta}_{0} \\dot{\\theta}_{1} + 1.5 \\dot{d}^{2} + 0.833333333333333 \\dot{\\theta}_{0}^{2} + 0.333333333333333 \\dot{\\theta}_{0} \\dot{\\theta}_{1} + 0.166666666666667 \\dot{\\theta}_{1}^{2}$$"
      ],
      "text/plain": [
       "                                                                              \n",
       "       2                             d        d                               \n",
       "- 0.5⋅d (t) - 0.5⋅sin(θ₀(t) + θ₁(t))⋅──(d(t))⋅──(θ₀(t)) - 0.5⋅sin(θ₀(t) + θ₁(t\n",
       "                                     dt       dt                              \n",
       "\n",
       "                                                                              \n",
       "   d        d                                                   d        d    \n",
       "))⋅──(d(t))⋅──(θ₁(t)) - 4.9⋅sin(θ₀(t) + θ₁(t)) - 1.5⋅sin(θ₀(t))⋅──(d(t))⋅──(θ₀\n",
       "   dt       dt                                                  dt       dt   \n",
       "\n",
       "                                                   2                          \n",
       "                                        ⎛d        ⎞                   d       \n",
       "(t)) - 14.7⋅sin(θ₀(t)) + 0.5⋅cos(θ₁(t))⋅⎜──(θ₀(t))⎟  + 0.5⋅cos(θ₁(t))⋅──(θ₀(t)\n",
       "                                        ⎝dt       ⎠                   dt      \n",
       "\n",
       "                            2                                2                \n",
       "  d               ⎛d       ⎞                      ⎛d        ⎞                 \n",
       ")⋅──(θ₁(t)) + 1.5⋅⎜──(d(t))⎟  + 0.833333333333333⋅⎜──(θ₀(t))⎟  + 0.33333333333\n",
       "  dt              ⎝dt      ⎠                      ⎝dt       ⎠                 \n",
       "\n",
       "                                                        2\n",
       "     d         d                             ⎛d        ⎞ \n",
       "3333⋅──(θ₀(t))⋅──(θ₁(t)) + 0.166666666666667⋅⎜──(θ₁(t))⎟ \n",
       "     dt        dt                            ⎝dt       ⎠ "
      ]
     },
     "execution_count": 11,
     "metadata": {},
     "output_type": "execute_result"
    }
   ],
   "source": [
    "simplify(lagrange)"
   ]
  },
  {
   "cell_type": "markdown",
   "metadata": {},
   "source": [
    "$$x_0= r_0 \\cos{(\\theta_0)}$$\n",
    "$$y_0= r_0 \\sin{(\\theta_0)}$$\n",
    "$$x_1= l_0 \\cos{(\\theta_0)} + r_1 \\cos{(\\theta_0 + \\theta_1)}$$\n",
    "$$y_1= l_0 \\sin{(\\theta_0)} + r_1 \\sin{(\\theta_0 + \\theta_1)}$$\n",
    "\n",
    "$$\\dot{x_0}= -r_0 \\sin{(\\theta_0)}\\dot{\\theta_0}$$\n",
    "$$\\dot{y_0}= r_0 \\cos{(\\theta_0)}\\dot{\\theta_0}$$\n",
    "$$\\dot{x_1}= -(l_0 \\sin{(\\theta_0)} + r_1 \\sin{(\\theta_0 + \\theta_1)})\\dot{\\theta_0} - r_1\\sin{(\\theta_0 + \\theta_1)}\\dot{\\theta_1}$$\n",
    "$$\\dot{y_1}= (l_0 \\cos{(\\theta_0)} + r_1 \\cos{(\\theta_0 + \\theta_1)})\\dot{\\theta_0} + r_1\\cos{(\\theta_0 + \\theta_1)}\\dot{\\theta_1}$$"
   ]
  },
  {
   "cell_type": "code",
   "execution_count": 12,
   "metadata": {
    "collapsed": false
   },
   "outputs": [],
   "source": [
    "L = [None] * 3\n",
    "L[0] = diff(lagrange, theta_dot[0], t) - diff(lagrange, theta[0])\n",
    "L[1] = diff(lagrange, theta_dot[1], t) - diff(lagrange, theta[1])\n",
    "L[2] = diff(lagrange, d_dot, t) - diff(lagrange, d)"
   ]
  },
  {
   "cell_type": "code",
   "execution_count": 13,
   "metadata": {
    "collapsed": false
   },
   "outputs": [
    {
     "data": {
      "image/png": "[encoded data removed]",
      "text/latex": [
       "$$- 0.5 \\operatorname{sin}\\left(\\theta_{0} + \\theta_{1}\\right) \\ddot{d} - 1.5 \\operatorname{sin}\\left(\\theta_{0}\\right) \\ddot{d} - 1.0 \\operatorname{sin}\\left(\\theta_{1}\\right) \\dot{\\theta}_{0} \\dot{\\theta}_{1} - 0.5 \\operatorname{sin}\\left(\\theta_{1}\\right) \\dot{\\theta}_{1}^{2} + 4.9 \\operatorname{cos}\\left(\\theta_{0} + \\theta_{1}\\right) + 14.7 \\operatorname{cos}\\left(\\theta_{0}\\right) + 1.0 \\operatorname{cos}\\left(\\theta_{1}\\right) \\ddot{\\theta}_{0} + 0.5 \\operatorname{cos}\\left(\\theta_{1}\\right) \\ddot{\\theta}_{1} + 1.66666666666667 \\ddot{\\theta}_{0} + 0.333333333333333 \\ddot{\\theta}_{1}$$"
      ],
      "text/plain": [
       "                           2                          2                       \n",
       "                          d                          d                        \n",
       "- 0.5⋅sin(θ₀(t) + θ₁(t))⋅───(d(t)) - 1.5⋅sin(θ₀(t))⋅───(d(t)) - 1.0⋅sin(θ₁(t))\n",
       "                           2                          2                       \n",
       "                         dt                         dt                        \n",
       "\n",
       "                                                 2                            \n",
       " d         d                          ⎛d        ⎞                             \n",
       "⋅──(θ₀(t))⋅──(θ₁(t)) - 0.5⋅sin(θ₁(t))⋅⎜──(θ₁(t))⎟  + 4.9⋅cos(θ₀(t) + θ₁(t)) + \n",
       " dt        dt                         ⎝dt       ⎠                             \n",
       "                                                                              \n",
       "\n",
       "                                   2                           2              \n",
       "                                  d                           d               \n",
       "14.7⋅cos(θ₀(t)) + 1.0⋅cos(θ₁(t))⋅───(θ₀(t)) + 0.5⋅cos(θ₁(t))⋅───(θ₁(t)) + 1.66\n",
       "                                   2                           2              \n",
       "                                 dt                          dt               \n",
       "\n",
       "               2                              2       \n",
       "              d                              d        \n",
       "666666666667⋅───(θ₀(t)) + 0.333333333333333⋅───(θ₁(t))\n",
       "               2                              2       \n",
       "             dt                             dt        "
      ]
     },
     "execution_count": 13,
     "metadata": {},
     "output_type": "execute_result"
    }
   ],
   "source": [
    "simplify(L[0])"
   ]
  },
  {
   "cell_type": "code",
   "execution_count": 14,
   "metadata": {
    "collapsed": false
   },
   "outputs": [
    {
     "data": {
      "image/png": "[encoded data removed]",
      "text/latex": [
       "$$- 0.5 \\operatorname{sin}\\left(\\theta_{0} + \\theta_{1}\\right) \\ddot{d} + 0.5 \\operatorname{sin}\\left(\\theta_{1}\\right) \\dot{\\theta}_{0}^{2} + 4.9 \\operatorname{cos}\\left(\\theta_{0} + \\theta_{1}\\right) + 0.5 \\operatorname{cos}\\left(\\theta_{1}\\right) \\ddot{\\theta}_{0} + 0.333333333333333 \\ddot{\\theta}_{0} + 0.333333333333333 \\ddot{\\theta}_{1}$$"
      ],
      "text/plain": [
       "                           2                                   2              \n",
       "                          d                         ⎛d        ⎞               \n",
       "- 0.5⋅sin(θ₀(t) + θ₁(t))⋅───(d(t)) + 0.5⋅sin(θ₁(t))⋅⎜──(θ₀(t))⎟  + 4.9⋅cos(θ₀(\n",
       "                           2                        ⎝dt       ⎠               \n",
       "                         dt                                                   \n",
       "\n",
       "                               2                              2               \n",
       "                              d                              d                \n",
       "t) + θ₁(t)) + 0.5⋅cos(θ₁(t))⋅───(θ₀(t)) + 0.333333333333333⋅───(θ₀(t)) + 0.333\n",
       "                               2                              2               \n",
       "                             dt                             dt                \n",
       "\n",
       "               2       \n",
       "              d        \n",
       "333333333333⋅───(θ₁(t))\n",
       "               2       \n",
       "             dt        "
      ]
     },
     "execution_count": 14,
     "metadata": {},
     "output_type": "execute_result"
    }
   ],
   "source": [
    "simplify(L[1])"
   ]
  },
  {
   "cell_type": "code",
   "execution_count": 15,
   "metadata": {
    "collapsed": false
   },
   "outputs": [
    {
     "data": {
      "image/png": "[encoded data removed]",
      "text/latex": [
       "$$- 0.5 \\left(\\dot{\\theta}_{0} + \\dot{\\theta}_{1}\\right)^{2} \\operatorname{cos}\\left(\\theta_{0} + \\theta_{1}\\right) - 0.5 \\left(\\ddot{\\theta}_{0} + \\ddot{\\theta}_{1}\\right) \\operatorname{sin}\\left(\\theta_{0} + \\theta_{1}\\right) + 1.0 d - 1.5 \\operatorname{sin}\\left(\\theta_{0}\\right) \\ddot{\\theta}_{0} - 1.5 \\operatorname{cos}\\left(\\theta_{0}\\right) \\dot{\\theta}_{0}^{2} + 3.0 \\ddot{d}$$"
      ],
      "text/plain": [
       "                             2                          ⎛  2            2     \n",
       "      ⎛d           d        ⎞                           ⎜ d            d      \n",
       "- 0.5⋅⎜──(θ₀(t)) + ──(θ₁(t))⎟ ⋅cos(θ₀(t) + θ₁(t)) - 0.5⋅⎜───(θ₀(t)) + ───(θ₁(t\n",
       "      ⎝dt          dt       ⎠                           ⎜  2            2     \n",
       "                                                        ⎝dt           dt      \n",
       "\n",
       "  ⎞                                                  2                        \n",
       "  ⎟                                                 d                         \n",
       "))⎟⋅sin(θ₀(t) + θ₁(t)) + 1.0⋅d(t) - 1.5⋅sin(θ₀(t))⋅───(θ₀(t)) - 1.5⋅cos(θ₀(t))\n",
       "  ⎟                                                  2                        \n",
       "  ⎠                                                dt                         \n",
       "\n",
       "            2         2      \n",
       " ⎛d        ⎞         d       \n",
       "⋅⎜──(θ₀(t))⎟  + 3.0⋅───(d(t))\n",
       " ⎝dt       ⎠          2      \n",
       "                    dt       "
      ]
     },
     "execution_count": 15,
     "metadata": {},
     "output_type": "execute_result"
    }
   ],
   "source": [
    "simplify(L[2])"
   ]
  },
  {
   "cell_type": "code",
   "execution_count": 17,
   "metadata": {
    "collapsed": true
   },
   "outputs": [],
   "source": [
    "solution = solve(L, [theta_ddot[0], theta_ddot[1], d_ddot])"
   ]
  },
  {
   "cell_type": "code",
   "execution_count": 26,
   "metadata": {
    "collapsed": false
   },
   "outputs": [
    {
     "data": {
      "image/png": "[encoded data removed]",
      "text/latex": [
       "$$\\frac{1}{- \\operatorname{cos}\\left(2.0 \\theta_{0} + 2.0 \\theta_{1}\\right) + 9.0 \\operatorname{cos}\\left(2.0 \\theta_{0}\\right) - 9.0 \\operatorname{cos}\\left(2.0 \\theta_{1}\\right) + 29.0} \\left(6.0 d \\operatorname{sin}\\left(\\theta_{0} + 2.0 \\theta_{1}\\right) - 18.0 d \\operatorname{sin}\\left(\\theta_{0}\\right) + 3.0 \\operatorname{sin}\\left(2.0 \\theta_{0} + \\theta_{1}\\right) \\dot{\\theta}_{0}^{2} + 6.0 \\operatorname{sin}\\left(2.0 \\theta_{0} + \\theta_{1}\\right) \\dot{\\theta}_{0} \\dot{\\theta}_{1} + 3.0 \\operatorname{sin}\\left(2.0 \\theta_{0} + \\theta_{1}\\right) \\dot{\\theta}_{1}^{2} + 9.0 \\operatorname{sin}\\left(2.0 \\theta_{0}\\right) \\dot{\\theta}_{0}^{2} + 15.0 \\operatorname{sin}\\left(\\theta_{1}\\right) \\dot{\\theta}_{0}^{2} + 30.0 \\operatorname{sin}\\left(\\theta_{1}\\right) \\dot{\\theta}_{0} \\dot{\\theta}_{1} + 15.0 \\operatorname{sin}\\left(\\theta_{1}\\right) \\dot{\\theta}_{1}^{2} + 9.0 \\operatorname{sin}\\left(2.0 \\theta_{1}\\right) \\dot{\\theta}_{0}^{2} + 88.2 \\operatorname{cos}\\left(\\theta_{0} + 2.0 \\theta_{1}\\right) - 441.0 \\operatorname{cos}\\left(\\theta_{0}\\right)\\right)$$"
      ],
      "text/plain": [
       "                                                                              \n",
       "                                                                              \n",
       "6.0⋅d(t)⋅sin(θ₀(t) + 2.0⋅θ₁(t)) - 18.0⋅d(t)⋅sin(θ₀(t)) + 3.0⋅sin(2.0⋅θ₀(t) + θ\n",
       "                                                                              \n",
       "──────────────────────────────────────────────────────────────────────────────\n",
       "                                                                              \n",
       "\n",
       "                 2                                                            \n",
       "      ⎛d        ⎞                               d         d                   \n",
       "₁(t))⋅⎜──(θ₀(t))⎟  + 6.0⋅sin(2.0⋅θ₀(t) + θ₁(t))⋅──(θ₀(t))⋅──(θ₁(t)) + 3.0⋅sin(\n",
       "      ⎝dt       ⎠                               dt        dt                  \n",
       "──────────────────────────────────────────────────────────────────────────────\n",
       "                                                                              \n",
       "\n",
       "                              2                                 2             \n",
       "                   ⎛d        ⎞                       ⎛d        ⎞              \n",
       "2.0⋅θ₀(t) + θ₁(t))⋅⎜──(θ₁(t))⎟  + 9.0⋅sin(2.0⋅θ₀(t))⋅⎜──(θ₀(t))⎟  + 15.0⋅sin(θ\n",
       "                   ⎝dt       ⎠                       ⎝dt       ⎠              \n",
       "──────────────────────────────────────────────────────────────────────────────\n",
       "        -cos(2.0⋅θ₀(t) + 2.0⋅θ₁(t)) + 9.0⋅cos(2.0⋅θ₀(t)) - 9.0⋅cos(2.0⋅θ₁(t)) \n",
       "\n",
       "                 2                                                            \n",
       "      ⎛d        ⎞                    d         d                           ⎛d \n",
       "₁(t))⋅⎜──(θ₀(t))⎟  + 30.0⋅sin(θ₁(t))⋅──(θ₀(t))⋅──(θ₁(t)) + 15.0⋅sin(θ₁(t))⋅⎜──\n",
       "      ⎝dt       ⎠                    dt        dt                          ⎝dt\n",
       "──────────────────────────────────────────────────────────────────────────────\n",
       "+ 29.0                                                                        \n",
       "\n",
       "        2                                 2                                   \n",
       "       ⎞                       ⎛d        ⎞                                    \n",
       "(θ₁(t))⎟  + 9.0⋅sin(2.0⋅θ₁(t))⋅⎜──(θ₀(t))⎟  + 88.2⋅cos(θ₀(t) + 2.0⋅θ₁(t)) - 44\n",
       "       ⎠                       ⎝dt       ⎠                                    \n",
       "──────────────────────────────────────────────────────────────────────────────\n",
       "                                                                              \n",
       "\n",
       "              \n",
       "              \n",
       "1.0⋅cos(θ₀(t))\n",
       "              \n",
       "──────────────\n",
       "              "
      ]
     },
     "execution_count": 26,
     "metadata": {},
     "output_type": "execute_result"
    }
   ],
   "source": [
    "solution[theta_ddot[0]]"
   ]
  },
  {
   "cell_type": "code",
   "execution_count": 27,
   "metadata": {
    "collapsed": false
   },
   "outputs": [
    {
     "data": {
      "image/png": "[encoded data removed]",
      "text/latex": [
       "$$\\frac{1}{- \\operatorname{cos}\\left(2.0 \\theta_{0} + 2.0 \\theta_{1}\\right) + 9.0 \\operatorname{cos}\\left(2.0 \\theta_{0}\\right) - 9.0 \\operatorname{cos}\\left(2.0 \\theta_{1}\\right) + 29.0} \\left(- 0.6 \\left(5.0 \\operatorname{sin}\\left(\\theta_{1}\\right) \\dot{\\theta}_{0}^{2} + 49.0 \\operatorname{cos}\\left(\\theta_{0} + \\theta_{1}\\right)\\right) \\left(6.0 \\operatorname{cos}\\left(2.0 \\theta_{0} + \\theta_{1}\\right) + \\operatorname{cos}\\left(2.0 \\theta_{0} + 2.0 \\theta_{1}\\right) + 9.0 \\operatorname{cos}\\left(2.0 \\theta_{0}\\right) + 18.0 \\operatorname{cos}\\left(\\theta_{1}\\right) + 30.0\\right) + 0.6 \\left(- 10.0 \\operatorname{sin}\\left(\\theta_{1}\\right) \\dot{\\theta}_{0} \\dot{\\theta}_{1} - 5.0 \\operatorname{sin}\\left(\\theta_{1}\\right) \\dot{\\theta}_{1}^{2} + 49.0 \\operatorname{cos}\\left(\\theta_{0} + \\theta_{1}\\right) + 147.0 \\operatorname{cos}\\left(\\theta_{0}\\right)\\right) \\left(3.0 \\operatorname{cos}\\left(2.0 \\theta_{0} + \\theta_{1}\\right) + \\operatorname{cos}\\left(2.0 \\theta_{0} + 2.0 \\theta_{1}\\right) + 9.0 \\operatorname{cos}\\left(\\theta_{1}\\right) + 7.0\\right) - \\left(9.0 \\operatorname{sin}\\left(\\theta_{0} - \\theta_{1}\\right) - 7.0 \\operatorname{sin}\\left(\\theta_{0} + \\theta_{1}\\right) - 3.0 \\operatorname{sin}\\left(\\theta_{0} + 2.0 \\theta_{1}\\right) + 9.0 \\operatorname{sin}\\left(\\theta_{0}\\right)\\right) \\left(- 2.0 d + \\operatorname{cos}\\left(\\theta_{0} + \\theta_{1}\\right) \\dot{\\theta}_{0}^{2} + 2.0 \\operatorname{cos}\\left(\\theta_{0} + \\theta_{1}\\right) \\dot{\\theta}_{0} \\dot{\\theta}_{1} + \\operatorname{cos}\\left(\\theta_{0} + \\theta_{1}\\right) \\dot{\\theta}_{1}^{2} + 3.0 \\operatorname{cos}\\left(\\theta_{0}\\right) \\dot{\\theta}_{0}^{2}\\right)\\right)$$"
      ],
      "text/plain": [
       "      ⎛                          2                          ⎞                 \n",
       "      ⎜               ⎛d        ⎞                           ⎟                 \n",
       "- 0.6⋅⎜5.0⋅sin(θ₁(t))⋅⎜──(θ₀(t))⎟  + 49.0⋅cos(θ₀(t) + θ₁(t))⎟⋅(6.0⋅cos(2.0⋅θ₀(\n",
       "      ⎝               ⎝dt       ⎠                           ⎠                 \n",
       "──────────────────────────────────────────────────────────────────────────────\n",
       "                                                                              \n",
       "\n",
       "                                                                              \n",
       "                                                                              \n",
       "t) + θ₁(t)) + cos(2.0⋅θ₀(t) + 2.0⋅θ₁(t)) + 9.0⋅cos(2.0⋅θ₀(t)) + 18.0⋅cos(θ₁(t)\n",
       "                                                                              \n",
       "──────────────────────────────────────────────────────────────────────────────\n",
       "                                                                              \n",
       "\n",
       "                ⎛                                                             \n",
       "                ⎜                  d         d                          ⎛d    \n",
       ") + 30.0) + 0.6⋅⎜- 10.0⋅sin(θ₁(t))⋅──(θ₀(t))⋅──(θ₁(t)) - 5.0⋅sin(θ₁(t))⋅⎜──(θ₁\n",
       "                ⎝                  dt        dt                         ⎝dt   \n",
       "──────────────────────────────────────────────────────────────────────────────\n",
       "                                                                              \n",
       "\n",
       "     2                                             ⎞                          \n",
       "    ⎞                                              ⎟                          \n",
       "(t))⎟  + 49.0⋅cos(θ₀(t) + θ₁(t)) + 147.0⋅cos(θ₀(t))⎟⋅(3.0⋅cos(2.0⋅θ₀(t) + θ₁(t\n",
       "    ⎠                                              ⎠                          \n",
       "──────────────────────────────────────────────────────────────────────────────\n",
       "                                      -cos(2.0⋅θ₀(t) + 2.0⋅θ₁(t)) + 9.0⋅cos(2.\n",
       "\n",
       "                                                                              \n",
       "                                                                              \n",
       ")) + cos(2.0⋅θ₀(t) + 2.0⋅θ₁(t)) + 9.0⋅cos(θ₁(t)) + 7.0) - (9.0⋅sin(θ₀(t) - θ₁(\n",
       "                                                                              \n",
       "──────────────────────────────────────────────────────────────────────────────\n",
       "0⋅θ₀(t)) - 9.0⋅cos(2.0⋅θ₁(t)) + 29.0                                          \n",
       "\n",
       "                                                                            ⎛ \n",
       "                                                                            ⎜ \n",
       "t)) - 7.0⋅sin(θ₀(t) + θ₁(t)) - 3.0⋅sin(θ₀(t) + 2.0⋅θ₁(t)) + 9.0⋅sin(θ₀(t)))⋅⎜-\n",
       "                                                                            ⎝ \n",
       "──────────────────────────────────────────────────────────────────────────────\n",
       "                                                                              \n",
       "\n",
       "                                         2                                    \n",
       "                              ⎛d        ⎞                           d         \n",
       "2.0⋅d(t) + cos(θ₀(t) + θ₁(t))⋅⎜──(θ₀(t))⎟  + 2.0⋅cos(θ₀(t) + θ₁(t))⋅──(θ₀(t))⋅\n",
       "                              ⎝dt       ⎠                           dt        \n",
       "──────────────────────────────────────────────────────────────────────────────\n",
       "                                                                              \n",
       "\n",
       "                                          2                             2⎞\n",
       "d                              ⎛d        ⎞                   ⎛d        ⎞ ⎟\n",
       "──(θ₁(t)) + cos(θ₀(t) + θ₁(t))⋅⎜──(θ₁(t))⎟  + 3.0⋅cos(θ₀(t))⋅⎜──(θ₀(t))⎟ ⎟\n",
       "dt                             ⎝dt       ⎠                   ⎝dt       ⎠ ⎠\n",
       "──────────────────────────────────────────────────────────────────────────\n",
       "                                                                          "
      ]
     },
     "execution_count": 27,
     "metadata": {},
     "output_type": "execute_result"
    }
   ],
   "source": [
    "solution[theta_ddot[1]]"
   ]
  },
  {
   "cell_type": "code",
   "execution_count": 28,
   "metadata": {
    "collapsed": false
   },
   "outputs": [
    {
     "data": {
      "image/png": "[encoded data removed]",
      "text/latex": [
       "$$\\frac{1}{- \\operatorname{cos}\\left(2.0 \\theta_{0} + 2.0 \\theta_{1}\\right) + 9.0 \\operatorname{cos}\\left(2.0 \\theta_{0}\\right) - 9.0 \\operatorname{cos}\\left(2.0 \\theta_{1}\\right) + 29.0} \\left(6.0 d \\operatorname{cos}\\left(2.0 \\theta_{1}\\right) - 15.3333333333333 d + 9.8 \\operatorname{sin}\\left(2.0 \\theta_{0} + 2.0 \\theta_{1}\\right) - 88.2 \\operatorname{sin}\\left(2.0 \\theta_{0}\\right) + 3.0 \\operatorname{cos}\\left(\\theta_{0} - \\theta_{1}\\right) \\dot{\\theta}_{0}^{2} + 6.0 \\operatorname{cos}\\left(\\theta_{0} - \\theta_{1}\\right) \\dot{\\theta}_{0} \\dot{\\theta}_{1} + 3.0 \\operatorname{cos}\\left(\\theta_{0} - \\theta_{1}\\right) \\dot{\\theta}_{1}^{2} + 1.66666666666667 \\operatorname{cos}\\left(\\theta_{0} + \\theta_{1}\\right) \\dot{\\theta}_{0}^{2} + 3.33333333333333 \\operatorname{cos}\\left(\\theta_{0} + \\theta_{1}\\right) \\dot{\\theta}_{0} \\dot{\\theta}_{1} + 1.66666666666667 \\operatorname{cos}\\left(\\theta_{0} + \\theta_{1}\\right) \\dot{\\theta}_{1}^{2} - 1.0 \\operatorname{cos}\\left(\\theta_{0} + 2.0 \\theta_{1}\\right) \\dot{\\theta}_{0}^{2} + 15.0 \\operatorname{cos}\\left(\\theta_{0}\\right) \\dot{\\theta}_{0}^{2}\\right)$$"
      ],
      "text/plain": [
       "                   ⎛                                                          \n",
       "                   ⎜                                                          \n",
       "0.0666666666666667⋅⎜90.0⋅d(t)⋅cos(2.0⋅θ₁(t)) - 230.0⋅d(t) + 147.0⋅sin(2.0⋅θ₀(t\n",
       "                   ⎝                                                          \n",
       "──────────────────────────────────────────────────────────────────────────────\n",
       "                                                                              \n",
       "\n",
       "                                                                            2 \n",
       "                                                                 ⎛d        ⎞  \n",
       ") + 2.0⋅θ₁(t)) - 1323.0⋅sin(2.0⋅θ₀(t)) + 45.0⋅cos(θ₀(t) - θ₁(t))⋅⎜──(θ₀(t))⎟  \n",
       "                                                                 ⎝dt       ⎠  \n",
       "──────────────────────────────────────────────────────────────────────────────\n",
       "                                                                              \n",
       "\n",
       "                                                                              \n",
       "                          d         d                                   ⎛d    \n",
       "+ 90.0⋅cos(θ₀(t) - θ₁(t))⋅──(θ₀(t))⋅──(θ₁(t)) + 45.0⋅cos(θ₀(t) - θ₁(t))⋅⎜──(θ₁\n",
       "                          dt        dt                                  ⎝dt   \n",
       "──────────────────────────────────────────────────────────────────────────────\n",
       "                          -cos(2.0⋅θ₀(t) + 2.0⋅θ₁(t)) + 9.0⋅cos(2.0⋅θ₀(t)) - 9\n",
       "\n",
       "     2                                      2                                 \n",
       "    ⎞                            ⎛d        ⎞                            d     \n",
       "(t))⎟  + 25.0⋅cos(θ₀(t) + θ₁(t))⋅⎜──(θ₀(t))⎟  + 50.0⋅cos(θ₀(t) + θ₁(t))⋅──(θ₀(\n",
       "    ⎠                            ⎝dt       ⎠                            dt    \n",
       "──────────────────────────────────────────────────────────────────────────────\n",
       ".0⋅cos(2.0⋅θ₁(t)) + 29.0                                                      \n",
       "\n",
       "                                                   2                          \n",
       "    d                                   ⎛d        ⎞                           \n",
       "t))⋅──(θ₁(t)) + 25.0⋅cos(θ₀(t) + θ₁(t))⋅⎜──(θ₁(t))⎟  - 15.0⋅cos(θ₀(t) + 2.0⋅θ₁\n",
       "    dt                                  ⎝dt       ⎠                           \n",
       "──────────────────────────────────────────────────────────────────────────────\n",
       "                                                                              \n",
       "\n",
       "                2                               2⎞\n",
       "     ⎛d        ⎞                     ⎛d        ⎞ ⎟\n",
       "(t))⋅⎜──(θ₀(t))⎟  + 225.0⋅cos(θ₀(t))⋅⎜──(θ₀(t))⎟ ⎟\n",
       "     ⎝dt       ⎠                     ⎝dt       ⎠ ⎠\n",
       "──────────────────────────────────────────────────\n",
       "                                                  "
      ]
     },
     "execution_count": 28,
     "metadata": {},
     "output_type": "execute_result"
    }
   ],
   "source": [
    "solution[d_ddot]"
   ]
  },
  {
   "cell_type": "code",
   "execution_count": 40,
   "metadata": {
    "collapsed": false
   },
   "outputs": [],
   "source": [
    "inputs = [(theta_dot[0], i), (theta[0], j), (theta_dot[1], k), (theta[1], n), (d_dot, p), (d, o)]\n",
    "\n",
    "LS = [None] * 3"
   ]
  },
  {
   "cell_type": "code",
   "execution_count": 41,
   "metadata": {
    "collapsed": true
   },
   "outputs": [],
   "source": [
    "LS[0] = lambdify((j, i, n, k, o, p), simplify(solution[theta_ddot[0]]).subs(inputs))"
   ]
  },
  {
   "cell_type": "code",
   "execution_count": 45,
   "metadata": {
    "collapsed": false
   },
   "outputs": [
    {
     "ename": "KeyError",
     "evalue": "cos(2*theta0(t))",
     "output_type": "error",
     "traceback": [
      "\u001b[1;31m---------------------------------------------------------------------------\u001b[0m",
      "\u001b[1;31mKeyError\u001b[0m                                  Traceback (most recent call last)",
      "\u001b[1;32m<ipython-input-45-468fb431dd91>\u001b[0m in \u001b[0;36m<module>\u001b[1;34m()\u001b[0m\n\u001b[1;32m----> 1\u001b[1;33m \u001b[0mLS\u001b[0m\u001b[1;33m[\u001b[0m\u001b[1;36m1\u001b[0m\u001b[1;33m]\u001b[0m \u001b[1;33m=\u001b[0m \u001b[0mlambdify\u001b[0m\u001b[1;33m(\u001b[0m\u001b[1;33m(\u001b[0m\u001b[0mj\u001b[0m\u001b[1;33m,\u001b[0m \u001b[0mi\u001b[0m\u001b[1;33m,\u001b[0m \u001b[0mn\u001b[0m\u001b[1;33m,\u001b[0m \u001b[0mk\u001b[0m\u001b[1;33m,\u001b[0m \u001b[0mo\u001b[0m\u001b[1;33m,\u001b[0m \u001b[0mp\u001b[0m\u001b[1;33m)\u001b[0m\u001b[1;33m,\u001b[0m \u001b[0msimplify\u001b[0m\u001b[1;33m(\u001b[0m\u001b[0msolution\u001b[0m\u001b[1;33m[\u001b[0m\u001b[0mtheta_ddot\u001b[0m\u001b[1;33m[\u001b[0m\u001b[1;36m1\u001b[0m\u001b[1;33m]\u001b[0m\u001b[1;33m]\u001b[0m\u001b[1;33m)\u001b[0m\u001b[1;33m.\u001b[0m\u001b[0msubs\u001b[0m\u001b[1;33m(\u001b[0m\u001b[0minputs\u001b[0m\u001b[1;33m)\u001b[0m\u001b[1;33m)\u001b[0m\u001b[1;33m\u001b[0m\u001b[0m\n\u001b[0m",
      "\u001b[1;32mc:\\users\\az55845\\appdata\\local\\programs\\python\\python35\\lib\\site-packages\\sympy\\simplify\\simplify.py\u001b[0m in \u001b[0;36msimplify\u001b[1;34m(expr, ratio, measure, fu)\u001b[0m\n\u001b[0;32m    566\u001b[0m     if expr.has(TrigonometricFunction) and not fu or expr.has(\n\u001b[0;32m    567\u001b[0m             HyperbolicFunction):\n\u001b[1;32m--> 568\u001b[1;33m         \u001b[0mexpr\u001b[0m \u001b[1;33m=\u001b[0m \u001b[0mtrigsimp\u001b[0m\u001b[1;33m(\u001b[0m\u001b[0mexpr\u001b[0m\u001b[1;33m,\u001b[0m \u001b[0mdeep\u001b[0m\u001b[1;33m=\u001b[0m\u001b[1;32mTrue\u001b[0m\u001b[1;33m)\u001b[0m\u001b[1;33m\u001b[0m\u001b[0m\n\u001b[0m\u001b[0;32m    569\u001b[0m \u001b[1;33m\u001b[0m\u001b[0m\n\u001b[0;32m    570\u001b[0m     \u001b[1;32mif\u001b[0m \u001b[0mexpr\u001b[0m\u001b[1;33m.\u001b[0m\u001b[0mhas\u001b[0m\u001b[1;33m(\u001b[0m\u001b[0mlog\u001b[0m\u001b[1;33m)\u001b[0m\u001b[1;33m:\u001b[0m\u001b[1;33m\u001b[0m\u001b[0m\n",
      "\u001b[1;32mc:\\users\\az55845\\appdata\\local\\programs\\python\\python35\\lib\\site-packages\\sympy\\simplify\\trigsimp.py\u001b[0m in \u001b[0;36mtrigsimp\u001b[1;34m(expr, **opts)\u001b[0m\n\u001b[0;32m    511\u001b[0m                    }[method]\n\u001b[0;32m    512\u001b[0m \u001b[1;33m\u001b[0m\u001b[0m\n\u001b[1;32m--> 513\u001b[1;33m     \u001b[1;32mreturn\u001b[0m \u001b[0mtrigsimpfunc\u001b[0m\u001b[1;33m(\u001b[0m\u001b[0mexpr\u001b[0m\u001b[1;33m)\u001b[0m\u001b[1;33m\u001b[0m\u001b[0m\n\u001b[0m\u001b[0;32m    514\u001b[0m \u001b[1;33m\u001b[0m\u001b[0m\n\u001b[0;32m    515\u001b[0m \u001b[1;33m\u001b[0m\u001b[0m\n",
      "\u001b[1;32mc:\\users\\az55845\\appdata\\local\\programs\\python\\python35\\lib\\site-packages\\sympy\\simplify\\trigsimp.py\u001b[0m in \u001b[0;36m<lambda>\u001b[1;34m(x)\u001b[0m\n\u001b[0;32m    504\u001b[0m     trigsimpfunc = {\n\u001b[0;32m    505\u001b[0m         \u001b[1;34m'fu'\u001b[0m\u001b[1;33m:\u001b[0m \u001b[1;33m(\u001b[0m\u001b[1;32mlambda\u001b[0m \u001b[0mx\u001b[0m\u001b[1;33m:\u001b[0m \u001b[0mfu\u001b[0m\u001b[1;33m(\u001b[0m\u001b[0mx\u001b[0m\u001b[1;33m,\u001b[0m \u001b[1;33m**\u001b[0m\u001b[0mopts\u001b[0m\u001b[1;33m)\u001b[0m\u001b[1;33m)\u001b[0m\u001b[1;33m,\u001b[0m\u001b[1;33m\u001b[0m\u001b[0m\n\u001b[1;32m--> 506\u001b[1;33m         \u001b[1;34m'matching'\u001b[0m\u001b[1;33m:\u001b[0m \u001b[1;33m(\u001b[0m\u001b[1;32mlambda\u001b[0m \u001b[0mx\u001b[0m\u001b[1;33m:\u001b[0m \u001b[0mfutrig\u001b[0m\u001b[1;33m(\u001b[0m\u001b[0mx\u001b[0m\u001b[1;33m)\u001b[0m\u001b[1;33m)\u001b[0m\u001b[1;33m,\u001b[0m\u001b[1;33m\u001b[0m\u001b[0m\n\u001b[0m\u001b[0;32m    507\u001b[0m         \u001b[1;34m'groebner'\u001b[0m\u001b[1;33m:\u001b[0m \u001b[1;33m(\u001b[0m\u001b[1;32mlambda\u001b[0m \u001b[0mx\u001b[0m\u001b[1;33m:\u001b[0m \u001b[0mgroebnersimp\u001b[0m\u001b[1;33m(\u001b[0m\u001b[0mx\u001b[0m\u001b[1;33m,\u001b[0m \u001b[1;33m**\u001b[0m\u001b[0mopts\u001b[0m\u001b[1;33m)\u001b[0m\u001b[1;33m)\u001b[0m\u001b[1;33m,\u001b[0m\u001b[1;33m\u001b[0m\u001b[0m\n\u001b[0;32m    508\u001b[0m         'combined': (lambda x: futrig(groebnersimp(x,\n",
      "\u001b[1;32mc:\\users\\az55845\\appdata\\local\\programs\\python\\python35\\lib\\site-packages\\sympy\\simplify\\trigsimp.py\u001b[0m in \u001b[0;36mfutrig\u001b[1;34m(e, **kwargs)\u001b[0m\n\u001b[0;32m   1081\u001b[0m \u001b[1;33m\u001b[0m\u001b[0m\n\u001b[0;32m   1082\u001b[0m     \u001b[0mold\u001b[0m \u001b[1;33m=\u001b[0m \u001b[0me\u001b[0m\u001b[1;33m\u001b[0m\u001b[0m\n\u001b[1;32m-> 1083\u001b[1;33m     \u001b[0me\u001b[0m \u001b[1;33m=\u001b[0m \u001b[0mbottom_up\u001b[0m\u001b[1;33m(\u001b[0m\u001b[0me\u001b[0m\u001b[1;33m,\u001b[0m \u001b[1;32mlambda\u001b[0m \u001b[0mx\u001b[0m\u001b[1;33m:\u001b[0m \u001b[0m_futrig\u001b[0m\u001b[1;33m(\u001b[0m\u001b[0mx\u001b[0m\u001b[1;33m,\u001b[0m \u001b[1;33m**\u001b[0m\u001b[0mkwargs\u001b[0m\u001b[1;33m)\u001b[0m\u001b[1;33m)\u001b[0m\u001b[1;33m\u001b[0m\u001b[0m\n\u001b[0m\u001b[0;32m   1084\u001b[0m \u001b[1;33m\u001b[0m\u001b[0m\n\u001b[0;32m   1085\u001b[0m     \u001b[1;32mif\u001b[0m \u001b[0mkwargs\u001b[0m\u001b[1;33m.\u001b[0m\u001b[0mpop\u001b[0m\u001b[1;33m(\u001b[0m\u001b[1;34m'hyper'\u001b[0m\u001b[1;33m,\u001b[0m \u001b[1;32mTrue\u001b[0m\u001b[1;33m)\u001b[0m \u001b[1;32mand\u001b[0m \u001b[0me\u001b[0m\u001b[1;33m.\u001b[0m\u001b[0mhas\u001b[0m\u001b[1;33m(\u001b[0m\u001b[0mHyperbolicFunction\u001b[0m\u001b[1;33m)\u001b[0m\u001b[1;33m:\u001b[0m\u001b[1;33m\u001b[0m\u001b[0m\n",
      "\u001b[1;32mc:\\users\\az55845\\appdata\\local\\programs\\python\\python35\\lib\\site-packages\\sympy\\simplify\\simplify.py\u001b[0m in \u001b[0;36mbottom_up\u001b[1;34m(rv, F, atoms, nonbasic)\u001b[0m\n\u001b[0;32m    925\u001b[0m         \u001b[1;32mif\u001b[0m \u001b[0mrv\u001b[0m\u001b[1;33m.\u001b[0m\u001b[0margs\u001b[0m\u001b[1;33m:\u001b[0m\u001b[1;33m\u001b[0m\u001b[0m\n\u001b[0;32m    926\u001b[0m             args = tuple([bottom_up(a, F, atoms, nonbasic)\n\u001b[1;32m--> 927\u001b[1;33m                 for a in rv.args])\n\u001b[0m\u001b[0;32m    928\u001b[0m             \u001b[1;32mif\u001b[0m \u001b[0margs\u001b[0m \u001b[1;33m!=\u001b[0m \u001b[0mrv\u001b[0m\u001b[1;33m.\u001b[0m\u001b[0margs\u001b[0m\u001b[1;33m:\u001b[0m\u001b[1;33m\u001b[0m\u001b[0m\n\u001b[0;32m    929\u001b[0m                 \u001b[0mrv\u001b[0m \u001b[1;33m=\u001b[0m \u001b[0mrv\u001b[0m\u001b[1;33m.\u001b[0m\u001b[0mfunc\u001b[0m\u001b[1;33m(\u001b[0m\u001b[1;33m*\u001b[0m\u001b[0margs\u001b[0m\u001b[1;33m)\u001b[0m\u001b[1;33m\u001b[0m\u001b[0m\n",
      "\u001b[1;32mc:\\users\\az55845\\appdata\\local\\programs\\python\\python35\\lib\\site-packages\\sympy\\simplify\\simplify.py\u001b[0m in \u001b[0;36m<listcomp>\u001b[1;34m(.0)\u001b[0m\n\u001b[0;32m    925\u001b[0m         \u001b[1;32mif\u001b[0m \u001b[0mrv\u001b[0m\u001b[1;33m.\u001b[0m\u001b[0margs\u001b[0m\u001b[1;33m:\u001b[0m\u001b[1;33m\u001b[0m\u001b[0m\n\u001b[0;32m    926\u001b[0m             args = tuple([bottom_up(a, F, atoms, nonbasic)\n\u001b[1;32m--> 927\u001b[1;33m                 for a in rv.args])\n\u001b[0m\u001b[0;32m    928\u001b[0m             \u001b[1;32mif\u001b[0m \u001b[0margs\u001b[0m \u001b[1;33m!=\u001b[0m \u001b[0mrv\u001b[0m\u001b[1;33m.\u001b[0m\u001b[0margs\u001b[0m\u001b[1;33m:\u001b[0m\u001b[1;33m\u001b[0m\u001b[0m\n\u001b[0;32m    929\u001b[0m                 \u001b[0mrv\u001b[0m \u001b[1;33m=\u001b[0m \u001b[0mrv\u001b[0m\u001b[1;33m.\u001b[0m\u001b[0mfunc\u001b[0m\u001b[1;33m(\u001b[0m\u001b[1;33m*\u001b[0m\u001b[0margs\u001b[0m\u001b[1;33m)\u001b[0m\u001b[1;33m\u001b[0m\u001b[0m\n",
      "\u001b[1;32mc:\\users\\az55845\\appdata\\local\\programs\\python\\python35\\lib\\site-packages\\sympy\\simplify\\simplify.py\u001b[0m in \u001b[0;36mbottom_up\u001b[1;34m(rv, F, atoms, nonbasic)\u001b[0m\n\u001b[0;32m    928\u001b[0m             \u001b[1;32mif\u001b[0m \u001b[0margs\u001b[0m \u001b[1;33m!=\u001b[0m \u001b[0mrv\u001b[0m\u001b[1;33m.\u001b[0m\u001b[0margs\u001b[0m\u001b[1;33m:\u001b[0m\u001b[1;33m\u001b[0m\u001b[0m\n\u001b[0;32m    929\u001b[0m                 \u001b[0mrv\u001b[0m \u001b[1;33m=\u001b[0m \u001b[0mrv\u001b[0m\u001b[1;33m.\u001b[0m\u001b[0mfunc\u001b[0m\u001b[1;33m(\u001b[0m\u001b[1;33m*\u001b[0m\u001b[0margs\u001b[0m\u001b[1;33m)\u001b[0m\u001b[1;33m\u001b[0m\u001b[0m\n\u001b[1;32m--> 930\u001b[1;33m             \u001b[0mrv\u001b[0m \u001b[1;33m=\u001b[0m \u001b[0mF\u001b[0m\u001b[1;33m(\u001b[0m\u001b[0mrv\u001b[0m\u001b[1;33m)\u001b[0m\u001b[1;33m\u001b[0m\u001b[0m\n\u001b[0m\u001b[0;32m    931\u001b[0m         \u001b[1;32melif\u001b[0m \u001b[0matoms\u001b[0m\u001b[1;33m:\u001b[0m\u001b[1;33m\u001b[0m\u001b[0m\n\u001b[0;32m    932\u001b[0m             \u001b[0mrv\u001b[0m \u001b[1;33m=\u001b[0m \u001b[0mF\u001b[0m\u001b[1;33m(\u001b[0m\u001b[0mrv\u001b[0m\u001b[1;33m)\u001b[0m\u001b[1;33m\u001b[0m\u001b[0m\n",
      "\u001b[1;32mc:\\users\\az55845\\appdata\\local\\programs\\python\\python35\\lib\\site-packages\\sympy\\simplify\\trigsimp.py\u001b[0m in \u001b[0;36m<lambda>\u001b[1;34m(x)\u001b[0m\n\u001b[0;32m   1081\u001b[0m \u001b[1;33m\u001b[0m\u001b[0m\n\u001b[0;32m   1082\u001b[0m     \u001b[0mold\u001b[0m \u001b[1;33m=\u001b[0m \u001b[0me\u001b[0m\u001b[1;33m\u001b[0m\u001b[0m\n\u001b[1;32m-> 1083\u001b[1;33m     \u001b[0me\u001b[0m \u001b[1;33m=\u001b[0m \u001b[0mbottom_up\u001b[0m\u001b[1;33m(\u001b[0m\u001b[0me\u001b[0m\u001b[1;33m,\u001b[0m \u001b[1;32mlambda\u001b[0m \u001b[0mx\u001b[0m\u001b[1;33m:\u001b[0m \u001b[0m_futrig\u001b[0m\u001b[1;33m(\u001b[0m\u001b[0mx\u001b[0m\u001b[1;33m,\u001b[0m \u001b[1;33m**\u001b[0m\u001b[0mkwargs\u001b[0m\u001b[1;33m)\u001b[0m\u001b[1;33m)\u001b[0m\u001b[1;33m\u001b[0m\u001b[0m\n\u001b[0m\u001b[0;32m   1084\u001b[0m \u001b[1;33m\u001b[0m\u001b[0m\n\u001b[0;32m   1085\u001b[0m     \u001b[1;32mif\u001b[0m \u001b[0mkwargs\u001b[0m\u001b[1;33m.\u001b[0m\u001b[0mpop\u001b[0m\u001b[1;33m(\u001b[0m\u001b[1;34m'hyper'\u001b[0m\u001b[1;33m,\u001b[0m \u001b[1;32mTrue\u001b[0m\u001b[1;33m)\u001b[0m \u001b[1;32mand\u001b[0m \u001b[0me\u001b[0m\u001b[1;33m.\u001b[0m\u001b[0mhas\u001b[0m\u001b[1;33m(\u001b[0m\u001b[0mHyperbolicFunction\u001b[0m\u001b[1;33m)\u001b[0m\u001b[1;33m:\u001b[0m\u001b[1;33m\u001b[0m\u001b[0m\n",
      "\u001b[1;32mc:\\users\\az55845\\appdata\\local\\programs\\python\\python35\\lib\\site-packages\\sympy\\simplify\\trigsimp.py\u001b[0m in \u001b[0;36m_futrig\u001b[1;34m(e, **kwargs)\u001b[0m\n\u001b[0;32m   1149\u001b[0m             factor_terms, TR12(x), trigs)],  # expand tan of sum\n\u001b[0;32m   1150\u001b[0m         )]\n\u001b[1;32m-> 1151\u001b[1;33m     \u001b[0me\u001b[0m \u001b[1;33m=\u001b[0m \u001b[0mgreedy\u001b[0m\u001b[1;33m(\u001b[0m\u001b[0mtree\u001b[0m\u001b[1;33m,\u001b[0m \u001b[0mobjective\u001b[0m\u001b[1;33m=\u001b[0m\u001b[0mLops\u001b[0m\u001b[1;33m)\u001b[0m\u001b[1;33m(\u001b[0m\u001b[0me\u001b[0m\u001b[1;33m)\u001b[0m\u001b[1;33m\u001b[0m\u001b[0m\n\u001b[0m\u001b[0;32m   1152\u001b[0m \u001b[1;33m\u001b[0m\u001b[0m\n\u001b[0;32m   1153\u001b[0m     \u001b[1;32mreturn\u001b[0m \u001b[0mcoeff\u001b[0m\u001b[1;33m*\u001b[0m\u001b[0me\u001b[0m\u001b[1;33m\u001b[0m\u001b[0m\n",
      "\u001b[1;32mc:\\users\\az55845\\appdata\\local\\programs\\python\\python35\\lib\\site-packages\\sympy\\strategies\\core.py\u001b[0m in \u001b[0;36mminrule\u001b[1;34m(expr)\u001b[0m\n\u001b[0;32m    115\u001b[0m     \u001b[0mobjective\u001b[0m \u001b[1;33m=\u001b[0m \u001b[0mkwargs\u001b[0m\u001b[1;33m.\u001b[0m\u001b[0mget\u001b[0m\u001b[1;33m(\u001b[0m\u001b[1;34m'objective'\u001b[0m\u001b[1;33m,\u001b[0m \u001b[0midentity\u001b[0m\u001b[1;33m)\u001b[0m\u001b[1;33m\u001b[0m\u001b[0m\n\u001b[0;32m    116\u001b[0m     \u001b[1;32mdef\u001b[0m \u001b[0mminrule\u001b[0m\u001b[1;33m(\u001b[0m\u001b[0mexpr\u001b[0m\u001b[1;33m)\u001b[0m\u001b[1;33m:\u001b[0m\u001b[1;33m\u001b[0m\u001b[0m\n\u001b[1;32m--> 117\u001b[1;33m         \u001b[1;32mreturn\u001b[0m \u001b[0mmin\u001b[0m\u001b[1;33m(\u001b[0m\u001b[1;33m[\u001b[0m\u001b[0mrule\u001b[0m\u001b[1;33m(\u001b[0m\u001b[0mexpr\u001b[0m\u001b[1;33m)\u001b[0m \u001b[1;32mfor\u001b[0m \u001b[0mrule\u001b[0m \u001b[1;32min\u001b[0m \u001b[0mrules\u001b[0m\u001b[1;33m]\u001b[0m\u001b[1;33m,\u001b[0m \u001b[0mkey\u001b[0m\u001b[1;33m=\u001b[0m\u001b[0mobjective\u001b[0m\u001b[1;33m)\u001b[0m\u001b[1;33m\u001b[0m\u001b[0m\n\u001b[0m\u001b[0;32m    118\u001b[0m     \u001b[1;32mreturn\u001b[0m \u001b[0mminrule\u001b[0m\u001b[1;33m\u001b[0m\u001b[0m\n",
      "\u001b[1;32mc:\\users\\az55845\\appdata\\local\\programs\\python\\python35\\lib\\site-packages\\sympy\\strategies\\core.py\u001b[0m in \u001b[0;36m<listcomp>\u001b[1;34m(.0)\u001b[0m\n\u001b[0;32m    115\u001b[0m     \u001b[0mobjective\u001b[0m \u001b[1;33m=\u001b[0m \u001b[0mkwargs\u001b[0m\u001b[1;33m.\u001b[0m\u001b[0mget\u001b[0m\u001b[1;33m(\u001b[0m\u001b[1;34m'objective'\u001b[0m\u001b[1;33m,\u001b[0m \u001b[0midentity\u001b[0m\u001b[1;33m)\u001b[0m\u001b[1;33m\u001b[0m\u001b[0m\n\u001b[0;32m    116\u001b[0m     \u001b[1;32mdef\u001b[0m \u001b[0mminrule\u001b[0m\u001b[1;33m(\u001b[0m\u001b[0mexpr\u001b[0m\u001b[1;33m)\u001b[0m\u001b[1;33m:\u001b[0m\u001b[1;33m\u001b[0m\u001b[0m\n\u001b[1;32m--> 117\u001b[1;33m         \u001b[1;32mreturn\u001b[0m \u001b[0mmin\u001b[0m\u001b[1;33m(\u001b[0m\u001b[1;33m[\u001b[0m\u001b[0mrule\u001b[0m\u001b[1;33m(\u001b[0m\u001b[0mexpr\u001b[0m\u001b[1;33m)\u001b[0m \u001b[1;32mfor\u001b[0m \u001b[0mrule\u001b[0m \u001b[1;32min\u001b[0m \u001b[0mrules\u001b[0m\u001b[1;33m]\u001b[0m\u001b[1;33m,\u001b[0m \u001b[0mkey\u001b[0m\u001b[1;33m=\u001b[0m\u001b[0mobjective\u001b[0m\u001b[1;33m)\u001b[0m\u001b[1;33m\u001b[0m\u001b[0m\n\u001b[0m\u001b[0;32m    118\u001b[0m     \u001b[1;32mreturn\u001b[0m \u001b[0mminrule\u001b[0m\u001b[1;33m\u001b[0m\u001b[0m\n",
      "\u001b[1;32mc:\\users\\az55845\\appdata\\local\\programs\\python\\python35\\lib\\site-packages\\sympy\\strategies\\core.py\u001b[0m in \u001b[0;36mchain_rl\u001b[1;34m(expr)\u001b[0m\n\u001b[0;32m     42\u001b[0m     \u001b[1;32mdef\u001b[0m \u001b[0mchain_rl\u001b[0m\u001b[1;33m(\u001b[0m\u001b[0mexpr\u001b[0m\u001b[1;33m)\u001b[0m\u001b[1;33m:\u001b[0m\u001b[1;33m\u001b[0m\u001b[0m\n\u001b[0;32m     43\u001b[0m         \u001b[1;32mfor\u001b[0m \u001b[0mrule\u001b[0m \u001b[1;32min\u001b[0m \u001b[0mrules\u001b[0m\u001b[1;33m:\u001b[0m\u001b[1;33m\u001b[0m\u001b[0m\n\u001b[1;32m---> 44\u001b[1;33m             \u001b[0mexpr\u001b[0m \u001b[1;33m=\u001b[0m \u001b[0mrule\u001b[0m\u001b[1;33m(\u001b[0m\u001b[0mexpr\u001b[0m\u001b[1;33m)\u001b[0m\u001b[1;33m\u001b[0m\u001b[0m\n\u001b[0m\u001b[0;32m     45\u001b[0m         \u001b[1;32mreturn\u001b[0m \u001b[0mexpr\u001b[0m\u001b[1;33m\u001b[0m\u001b[0m\n\u001b[0;32m     46\u001b[0m     \u001b[1;32mreturn\u001b[0m \u001b[0mchain_rl\u001b[0m\u001b[1;33m\u001b[0m\u001b[0m\n",
      "\u001b[1;32mc:\\users\\az55845\\appdata\\local\\programs\\python\\python35\\lib\\site-packages\\sympy\\simplify\\fu.py\u001b[0m in \u001b[0;36mTRmorrie\u001b[1;34m(rv)\u001b[0m\n\u001b[0;32m   1336\u001b[0m         \u001b[1;32mreturn\u001b[0m \u001b[0mrv\u001b[0m\u001b[1;33m\u001b[0m\u001b[0m\n\u001b[0;32m   1337\u001b[0m \u001b[1;33m\u001b[0m\u001b[0m\n\u001b[1;32m-> 1338\u001b[1;33m     \u001b[1;32mreturn\u001b[0m \u001b[0mbottom_up\u001b[0m\u001b[1;33m(\u001b[0m\u001b[0mrv\u001b[0m\u001b[1;33m,\u001b[0m \u001b[0mf\u001b[0m\u001b[1;33m)\u001b[0m\u001b[1;33m\u001b[0m\u001b[0m\n\u001b[0m\u001b[0;32m   1339\u001b[0m \u001b[1;33m\u001b[0m\u001b[0m\n\u001b[0;32m   1340\u001b[0m \u001b[1;33m\u001b[0m\u001b[0m\n",
      "\u001b[1;32mc:\\users\\az55845\\appdata\\local\\programs\\python\\python35\\lib\\site-packages\\sympy\\simplify\\simplify.py\u001b[0m in \u001b[0;36mbottom_up\u001b[1;34m(rv, F, atoms, nonbasic)\u001b[0m\n\u001b[0;32m    925\u001b[0m         \u001b[1;32mif\u001b[0m \u001b[0mrv\u001b[0m\u001b[1;33m.\u001b[0m\u001b[0margs\u001b[0m\u001b[1;33m:\u001b[0m\u001b[1;33m\u001b[0m\u001b[0m\n\u001b[0;32m    926\u001b[0m             args = tuple([bottom_up(a, F, atoms, nonbasic)\n\u001b[1;32m--> 927\u001b[1;33m                 for a in rv.args])\n\u001b[0m\u001b[0;32m    928\u001b[0m             \u001b[1;32mif\u001b[0m \u001b[0margs\u001b[0m \u001b[1;33m!=\u001b[0m \u001b[0mrv\u001b[0m\u001b[1;33m.\u001b[0m\u001b[0margs\u001b[0m\u001b[1;33m:\u001b[0m\u001b[1;33m\u001b[0m\u001b[0m\n\u001b[0;32m    929\u001b[0m                 \u001b[0mrv\u001b[0m \u001b[1;33m=\u001b[0m \u001b[0mrv\u001b[0m\u001b[1;33m.\u001b[0m\u001b[0mfunc\u001b[0m\u001b[1;33m(\u001b[0m\u001b[1;33m*\u001b[0m\u001b[0margs\u001b[0m\u001b[1;33m)\u001b[0m\u001b[1;33m\u001b[0m\u001b[0m\n",
      "\u001b[1;32mc:\\users\\az55845\\appdata\\local\\programs\\python\\python35\\lib\\site-packages\\sympy\\simplify\\simplify.py\u001b[0m in \u001b[0;36m<listcomp>\u001b[1;34m(.0)\u001b[0m\n\u001b[0;32m    925\u001b[0m         \u001b[1;32mif\u001b[0m \u001b[0mrv\u001b[0m\u001b[1;33m.\u001b[0m\u001b[0margs\u001b[0m\u001b[1;33m:\u001b[0m\u001b[1;33m\u001b[0m\u001b[0m\n\u001b[0;32m    926\u001b[0m             args = tuple([bottom_up(a, F, atoms, nonbasic)\n\u001b[1;32m--> 927\u001b[1;33m                 for a in rv.args])\n\u001b[0m\u001b[0;32m    928\u001b[0m             \u001b[1;32mif\u001b[0m \u001b[0margs\u001b[0m \u001b[1;33m!=\u001b[0m \u001b[0mrv\u001b[0m\u001b[1;33m.\u001b[0m\u001b[0margs\u001b[0m\u001b[1;33m:\u001b[0m\u001b[1;33m\u001b[0m\u001b[0m\n\u001b[0;32m    929\u001b[0m                 \u001b[0mrv\u001b[0m \u001b[1;33m=\u001b[0m \u001b[0mrv\u001b[0m\u001b[1;33m.\u001b[0m\u001b[0mfunc\u001b[0m\u001b[1;33m(\u001b[0m\u001b[1;33m*\u001b[0m\u001b[0margs\u001b[0m\u001b[1;33m)\u001b[0m\u001b[1;33m\u001b[0m\u001b[0m\n",
      "\u001b[1;32mc:\\users\\az55845\\appdata\\local\\programs\\python\\python35\\lib\\site-packages\\sympy\\simplify\\simplify.py\u001b[0m in \u001b[0;36mbottom_up\u001b[1;34m(rv, F, atoms, nonbasic)\u001b[0m\n\u001b[0;32m    928\u001b[0m             \u001b[1;32mif\u001b[0m \u001b[0margs\u001b[0m \u001b[1;33m!=\u001b[0m \u001b[0mrv\u001b[0m\u001b[1;33m.\u001b[0m\u001b[0margs\u001b[0m\u001b[1;33m:\u001b[0m\u001b[1;33m\u001b[0m\u001b[0m\n\u001b[0;32m    929\u001b[0m                 \u001b[0mrv\u001b[0m \u001b[1;33m=\u001b[0m \u001b[0mrv\u001b[0m\u001b[1;33m.\u001b[0m\u001b[0mfunc\u001b[0m\u001b[1;33m(\u001b[0m\u001b[1;33m*\u001b[0m\u001b[0margs\u001b[0m\u001b[1;33m)\u001b[0m\u001b[1;33m\u001b[0m\u001b[0m\n\u001b[1;32m--> 930\u001b[1;33m             \u001b[0mrv\u001b[0m \u001b[1;33m=\u001b[0m \u001b[0mF\u001b[0m\u001b[1;33m(\u001b[0m\u001b[0mrv\u001b[0m\u001b[1;33m)\u001b[0m\u001b[1;33m\u001b[0m\u001b[0m\n\u001b[0m\u001b[0;32m    931\u001b[0m         \u001b[1;32melif\u001b[0m \u001b[0matoms\u001b[0m\u001b[1;33m:\u001b[0m\u001b[1;33m\u001b[0m\u001b[0m\n\u001b[0;32m    932\u001b[0m             \u001b[0mrv\u001b[0m \u001b[1;33m=\u001b[0m \u001b[0mF\u001b[0m\u001b[1;33m(\u001b[0m\u001b[0mrv\u001b[0m\u001b[1;33m)\u001b[0m\u001b[1;33m\u001b[0m\u001b[0m\n",
      "\u001b[1;32mc:\\users\\az55845\\appdata\\local\\programs\\python\\python35\\lib\\site-packages\\sympy\\simplify\\fu.py\u001b[0m in \u001b[0;36mf\u001b[1;34m(rv)\u001b[0m\n\u001b[0;32m   1317\u001b[0m                         \u001b[0mkey\u001b[0m \u001b[1;33m=\u001b[0m \u001b[0mcos\u001b[0m\u001b[1;33m(\u001b[0m\u001b[0ma\u001b[0m\u001b[1;33m*\u001b[0m\u001b[0mcc\u001b[0m\u001b[1;33m,\u001b[0m \u001b[0mevaluate\u001b[0m\u001b[1;33m=\u001b[0m\u001b[1;32mFalse\u001b[0m\u001b[1;33m)\u001b[0m\u001b[1;33m\u001b[0m\u001b[0m\n\u001b[0;32m   1318\u001b[0m                         \u001b[0mccs\u001b[0m\u001b[1;33m.\u001b[0m\u001b[0mappend\u001b[0m\u001b[1;33m(\u001b[0m\u001b[0mcc\u001b[0m\u001b[1;33m)\u001b[0m\u001b[1;33m\u001b[0m\u001b[0m\n\u001b[1;32m-> 1319\u001b[1;33m                         \u001b[0mtake\u001b[0m \u001b[1;33m=\u001b[0m \u001b[0mmin\u001b[0m\u001b[1;33m(\u001b[0m\u001b[0mcoss\u001b[0m\u001b[1;33m[\u001b[0m\u001b[0mkey\u001b[0m\u001b[1;33m]\u001b[0m\u001b[1;33m,\u001b[0m \u001b[0mtake\u001b[0m \u001b[1;32mor\u001b[0m \u001b[0mcoss\u001b[0m\u001b[1;33m[\u001b[0m\u001b[0mkey\u001b[0m\u001b[1;33m]\u001b[0m\u001b[1;33m)\u001b[0m\u001b[1;33m\u001b[0m\u001b[0m\n\u001b[0m\u001b[0;32m   1320\u001b[0m                     \u001b[1;31m# update exponent counts\u001b[0m\u001b[1;33m\u001b[0m\u001b[1;33m\u001b[0m\u001b[0m\n\u001b[0;32m   1321\u001b[0m                     \u001b[1;32mfor\u001b[0m \u001b[0mi\u001b[0m \u001b[1;32min\u001b[0m \u001b[0mrange\u001b[0m\u001b[1;33m(\u001b[0m\u001b[0mk\u001b[0m\u001b[1;33m)\u001b[0m\u001b[1;33m:\u001b[0m\u001b[1;33m\u001b[0m\u001b[0m\n",
      "\u001b[1;31mKeyError\u001b[0m: cos(2*theta0(t))"
     ]
    }
   ],
   "source": [
    "LS[1] = lambdify((j, i, n, k, o, p), simplify(solution[theta_ddot[1]]).subs(inputs))"
   ]
  },
  {
   "cell_type": "code",
   "execution_count": 44,
   "metadata": {
    "collapsed": true
   },
   "outputs": [],
   "source": [
    "LS[2] = lambdify((j, i, n, k, o, p), simplify(solution[d_ddot]).subs(inputs))"
   ]
  },
  {
   "cell_type": "code",
   "execution_count": 36,
   "metadata": {
    "collapsed": false
   },
   "outputs": [
    {
     "data": {
      "image/png": "[encoded data removed]",
      "text/latex": [
       "$$-12.6$$"
      ],
      "text/plain": [
       "-12.6"
      ]
     },
     "execution_count": 36,
     "metadata": {},
     "output_type": "execute_result"
    }
   ],
   "source": [
    "LS[0](0,0,0,0,0,0)"
   ]
  }
 ],
 "metadata": {
  "kernelspec": {
   "display_name": "Python 3",
   "language": "python",
   "name": "python3"
  },
  "language_info": {
   "codemirror_mode": {
    "name": "ipython",
    "version": 3
   },
   "file_extension": ".py",
   "mimetype": "text/x-python",
   "name": "python",
   "nbconvert_exporter": "python",
   "pygments_lexer": "ipython3",
   "version": "3.5.1"
  }
 },
 "nbformat": 4,
 "nbformat_minor": 0
}
